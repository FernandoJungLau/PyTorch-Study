{
  "nbformat": 4,
  "nbformat_minor": 0,
  "metadata": {
    "colab": {
      "provenance": [],
      "authorship_tag": "ABX9TyMJIPYy8hDPMY+qyFyFsA2U",
      "include_colab_link": true
    },
    "kernelspec": {
      "name": "python3",
      "display_name": "Python 3"
    },
    "language_info": {
      "name": "python"
    }
  },
  "cells": [
    {
      "cell_type": "markdown",
      "metadata": {
        "id": "view-in-github",
        "colab_type": "text"
      },
      "source": [
        "<a href=\"https://colab.research.google.com/github/FernandoJungLau/PyTorch-Study/blob/main/PyTorch_Study.ipynb\" target=\"_parent\"><img src=\"https://colab.research.google.com/assets/colab-badge.svg\" alt=\"Open In Colab\"/></a>"
      ]
    },
    {
      "cell_type": "markdown",
      "source": [
        "Created while following PyTorch documentation and Daniel Bourke's PyTorch course.\n",
        "<br>\n",
        "source materials:  \n",
        "https://learnpytorch.io<br>\n",
        "https://docs.pytorch.org/docs/stable/index.html<br>\n",
        "https://youtu.be/Z_ikDlimN6A?si=64iIEmE2UiIbqjKw"
      ],
      "metadata": {
        "id": "eKO8nfW2-O_8"
      }
    },
    {
      "cell_type": "markdown",
      "source": [
        "# PyTorch Docs - Quickstart"
      ],
      "metadata": {
        "id": "LetlmXg-z7Gi"
      }
    },
    {
      "cell_type": "markdown",
      "source": [
        "## Setup"
      ],
      "metadata": {
        "id": "RHknIThXw5Bd"
      }
    },
    {
      "cell_type": "code",
      "execution_count": null,
      "metadata": {
        "id": "CeDa1cHMpDGh"
      },
      "outputs": [],
      "source": [
        "import torch\n",
        "from torch import nn\n",
        "from torch.utils.data import DataLoader\n",
        "from torchvision import datasets\n",
        "from torchvision.transforms import ToTensor"
      ]
    },
    {
      "cell_type": "code",
      "source": [
        "# Download training data from open datasets.\n",
        "training_data = datasets.FashionMNIST(\n",
        "    root=\"data\",\n",
        "    train=True,\n",
        "    download=True,\n",
        "    transform=ToTensor(),\n",
        ")\n",
        "\n",
        "# Download test data from open datasets.\n",
        "test_data = datasets.FashionMNIST(\n",
        "    root=\"data\",\n",
        "    train=False,\n",
        "    download=True,\n",
        "    transform=ToTensor(),\n",
        ")"
      ],
      "metadata": {
        "colab": {
          "base_uri": "https://localhost:8080/"
        },
        "id": "Ft4KudT0s7aJ",
        "outputId": "87c9c9a1-fa9c-45de-d85e-217afc2e5aa6"
      },
      "execution_count": null,
      "outputs": [
        {
          "output_type": "stream",
          "name": "stderr",
          "text": [
            "100%|██████████| 26.4M/26.4M [00:02<00:00, 12.5MB/s]\n",
            "100%|██████████| 29.5k/29.5k [00:00<00:00, 200kB/s]\n",
            "100%|██████████| 4.42M/4.42M [00:01<00:00, 3.80MB/s]\n",
            "100%|██████████| 5.15k/5.15k [00:00<00:00, 7.23MB/s]\n"
          ]
        }
      ]
    },
    {
      "cell_type": "markdown",
      "source": [
        "We pass the `Dataset` as an argument to `DataLoader`. This wraps an iterable over our dataset, and supports automatic batching, sampling, shuffling and multiprocess data loading. Here we define a batch size of 64, i.e. each element in the dataloader iterable will return a batch of 64 features and labels."
      ],
      "metadata": {
        "id": "_xrNJg_XyR5x"
      }
    },
    {
      "cell_type": "code",
      "source": [
        "batch_size = 64\n",
        "\n",
        "# Create data loaders.\n",
        "train_dataloader = DataLoader(training_data, batch_size=batch_size)\n",
        "test_dataloader = DataLoader(test_data, batch_size=batch_size)\n",
        "\n",
        "for X, y in test_dataloader:\n",
        "    print(f\"Shape of X [N, C, H, W]: {X.shape}\")\n",
        "    print(f\"Shape of y: {y.shape} {y.dtype}\")\n",
        "    break"
      ],
      "metadata": {
        "colab": {
          "base_uri": "https://localhost:8080/"
        },
        "id": "nOdC_qQJxjwf",
        "outputId": "52190789-efc8-4442-a8fe-880b1cfea0c7"
      },
      "execution_count": null,
      "outputs": [
        {
          "output_type": "stream",
          "name": "stdout",
          "text": [
            "Shape of X [N, C, H, W]: torch.Size([64, 1, 28, 28])\n",
            "Shape of y: torch.Size([64]) torch.int64\n"
          ]
        }
      ]
    },
    {
      "cell_type": "markdown",
      "source": [
        "## Creating Models"
      ],
      "metadata": {
        "id": "K5EP6D9sypHg"
      }
    },
    {
      "cell_type": "markdown",
      "source": [
        "To define a neural network in PyTorch, we create a class that inherits from **nn.Module**. We define the layers of the network in the `__init__` function and specify how data will pass through the network in the `forward` function. To accelerate operations in the neural network, we move it to the accelerator such as CUDA, MPS, MTIA, or XPU. If the current **accelerator** is available, we will use it. Otherwise, we use the CPU."
      ],
      "metadata": {
        "id": "NKwkuapAzPnO"
      }
    },
    {
      "cell_type": "code",
      "source": [
        "device = torch.accelerator.current_accelerator().type if torch.accelerator.is_available() else \"cpu\"\n",
        "print(f\"Using {device} device\")\n",
        "\n",
        "# Define model\n",
        "class NeuralNetwork(nn.Module):\n",
        "    def __init__(self):\n",
        "        super().__init__()\n",
        "        self.flatten = nn.Flatten()\n",
        "        self.linear_relu_stack = nn.Sequential(\n",
        "            nn.Linear(28*28, 512),\n",
        "            nn.ReLU(),\n",
        "            nn.Linear(512, 512),\n",
        "            nn.ReLU(),\n",
        "            nn.Linear(512, 10)\n",
        "        )\n",
        "\n",
        "    def forward(self, x):\n",
        "        x = self.flatten(x)\n",
        "        logits = self.linear_relu_stack(x)\n",
        "        return logits\n",
        "\n",
        "model = NeuralNetwork().to(device)\n",
        "print(model)"
      ],
      "metadata": {
        "colab": {
          "base_uri": "https://localhost:8080/"
        },
        "id": "lGUmUFLQyziN",
        "outputId": "b07d022d-04d6-45be-a227-a346d0d7f2c5"
      },
      "execution_count": null,
      "outputs": [
        {
          "output_type": "stream",
          "name": "stdout",
          "text": [
            "Using cpu device\n",
            "NeuralNetwork(\n",
            "  (flatten): Flatten(start_dim=1, end_dim=-1)\n",
            "  (linear_relu_stack): Sequential(\n",
            "    (0): Linear(in_features=784, out_features=512, bias=True)\n",
            "    (1): ReLU()\n",
            "    (2): Linear(in_features=512, out_features=512, bias=True)\n",
            "    (3): ReLU()\n",
            "    (4): Linear(in_features=512, out_features=10, bias=True)\n",
            "  )\n",
            ")\n"
          ]
        }
      ]
    },
    {
      "cell_type": "markdown",
      "source": [
        "## Optimizing the Model Parameters"
      ],
      "metadata": {
        "id": "Ov2qb1SV0OEx"
      }
    },
    {
      "cell_type": "code",
      "source": [
        "# Loss function and optimizer\n",
        "loss_fn = nn.CrossEntropyLoss()\n",
        "optimizer = torch.optim.SGD(model.parameters(), lr=1e-3)"
      ],
      "metadata": {
        "id": "j5PsBZZq0PXw"
      },
      "execution_count": null,
      "outputs": []
    },
    {
      "cell_type": "markdown",
      "source": [
        "\n",
        "Training loop with predictions in the training dataset and backpropagation to adjust the model’s parameters."
      ],
      "metadata": {
        "id": "4S0TXdO70l8u"
      }
    },
    {
      "cell_type": "code",
      "source": [
        "def train(dataloader, model, loss_fn, optimizer):\n",
        "    size = len(dataloader.dataset)\n",
        "    model.train()\n",
        "    for batch, (X, y) in enumerate(dataloader):\n",
        "        X, y = X.to(device), y.to(device)\n",
        "\n",
        "        # Compute prediction error\n",
        "        pred = model(X)\n",
        "        loss = loss_fn(pred, y)\n",
        "\n",
        "        # Backpropagation\n",
        "        loss.backward()\n",
        "        optimizer.step()\n",
        "        optimizer.zero_grad()\n",
        "\n",
        "        if batch % 100 == 0:\n",
        "            loss, current = loss.item(), (batch + 1) * len(X)\n",
        "            print(f\"loss: {loss:>7f}  [{current:>5d}/{size:>5d}]\")"
      ],
      "metadata": {
        "id": "vq0s7kwh0rnu"
      },
      "execution_count": null,
      "outputs": []
    },
    {
      "cell_type": "markdown",
      "source": [
        "Checking the model’s performance against the test dataset to ensure it is learning."
      ],
      "metadata": {
        "id": "XTmwpsJy1Z73"
      }
    },
    {
      "cell_type": "code",
      "source": [
        "def test(dataloader, model, loss_fn):\n",
        "    size = len(dataloader.dataset)\n",
        "    num_batches = len(dataloader)\n",
        "    model.eval()\n",
        "    test_loss, correct = 0, 0\n",
        "    with torch.no_grad():\n",
        "        for X, y in dataloader:\n",
        "            X, y = X.to(device), y.to(device)\n",
        "            pred = model(X)\n",
        "            test_loss += loss_fn(pred, y).item()\n",
        "            correct += (pred.argmax(1) == y).type(torch.float).sum().item()\n",
        "    test_loss /= num_batches\n",
        "    correct /= size\n",
        "    print(f\"Test Error: \\n Accuracy: {(100*correct):>0.1f}%, Avg loss: {test_loss:>8f} \\n\")"
      ],
      "metadata": {
        "id": "2BC1-ak01R2g"
      },
      "execution_count": null,
      "outputs": []
    },
    {
      "cell_type": "markdown",
      "source": [
        "The training process is conducted over several iterations (epochs). During each epoch, the model learns parameters to make better predictions. We print the model’s `accuracy` and `loss` at each epoch; we’d like to see the accuracy increase and the loss decrease with every epoch."
      ],
      "metadata": {
        "id": "FvfjFa8E11j2"
      }
    },
    {
      "cell_type": "code",
      "source": [
        "epochs = 5\n",
        "for t in range(epochs):\n",
        "    print(f\"Epoch {t+1}\\n-------------------------------\")\n",
        "    train(train_dataloader, model, loss_fn, optimizer)\n",
        "    test(test_dataloader, model, loss_fn)\n",
        "print(\"Done!\")"
      ],
      "metadata": {
        "colab": {
          "base_uri": "https://localhost:8080/"
        },
        "id": "ZT1Skgh91se3",
        "outputId": "4f283960-e761-477d-bbe2-ca1283d0e554"
      },
      "execution_count": null,
      "outputs": [
        {
          "output_type": "stream",
          "name": "stdout",
          "text": [
            "Epoch 1\n",
            "-------------------------------\n",
            "loss: 2.303888  [   64/60000]\n",
            "loss: 2.286021  [ 6464/60000]\n",
            "loss: 2.266347  [12864/60000]\n",
            "loss: 2.265998  [19264/60000]\n",
            "loss: 2.241197  [25664/60000]\n",
            "loss: 2.210743  [32064/60000]\n",
            "loss: 2.223500  [38464/60000]\n",
            "loss: 2.180671  [44864/60000]\n",
            "loss: 2.171514  [51264/60000]\n",
            "loss: 2.146654  [57664/60000]\n",
            "Test Error: \n",
            " Accuracy: 44.7%, Avg loss: 2.139349 \n",
            "\n",
            "Epoch 2\n",
            "-------------------------------\n",
            "loss: 2.146621  [   64/60000]\n",
            "loss: 2.132837  [ 6464/60000]\n",
            "loss: 2.071890  [12864/60000]\n",
            "loss: 2.096262  [19264/60000]\n",
            "loss: 2.019951  [25664/60000]\n",
            "loss: 1.965499  [32064/60000]\n",
            "loss: 2.001622  [38464/60000]\n",
            "loss: 1.909685  [44864/60000]\n",
            "loss: 1.914742  [51264/60000]\n",
            "loss: 1.838361  [57664/60000]\n",
            "Test Error: \n",
            " Accuracy: 57.1%, Avg loss: 1.840133 \n",
            "\n",
            "Epoch 3\n",
            "-------------------------------\n",
            "loss: 1.880162  [   64/60000]\n",
            "loss: 1.841166  [ 6464/60000]\n",
            "loss: 1.722552  [12864/60000]\n",
            "loss: 1.770128  [19264/60000]\n",
            "loss: 1.638416  [25664/60000]\n",
            "loss: 1.604070  [32064/60000]\n",
            "loss: 1.637661  [38464/60000]\n",
            "loss: 1.536695  [44864/60000]\n",
            "loss: 1.558921  [51264/60000]\n",
            "loss: 1.455984  [57664/60000]\n",
            "Test Error: \n",
            " Accuracy: 61.5%, Avg loss: 1.477770 \n",
            "\n",
            "Epoch 4\n",
            "-------------------------------\n",
            "loss: 1.551481  [   64/60000]\n",
            "loss: 1.514616  [ 6464/60000]\n",
            "loss: 1.365625  [12864/60000]\n",
            "loss: 1.438840  [19264/60000]\n",
            "loss: 1.309090  [25664/60000]\n",
            "loss: 1.313852  [32064/60000]\n",
            "loss: 1.339630  [38464/60000]\n",
            "loss: 1.264910  [44864/60000]\n",
            "loss: 1.293080  [51264/60000]\n",
            "loss: 1.203061  [57664/60000]\n",
            "Test Error: \n",
            " Accuracy: 63.5%, Avg loss: 1.228332 \n",
            "\n",
            "Epoch 5\n",
            "-------------------------------\n",
            "loss: 1.308705  [   64/60000]\n",
            "loss: 1.291394  [ 6464/60000]\n",
            "loss: 1.125018  [12864/60000]\n",
            "loss: 1.231450  [19264/60000]\n",
            "loss: 1.098713  [25664/60000]\n",
            "loss: 1.125809  [32064/60000]\n",
            "loss: 1.160281  [38464/60000]\n",
            "loss: 1.097564  [44864/60000]\n",
            "loss: 1.129721  [51264/60000]\n",
            "loss: 1.056599  [57664/60000]\n",
            "Test Error: \n",
            " Accuracy: 64.9%, Avg loss: 1.074760 \n",
            "\n",
            "Done!\n"
          ]
        }
      ]
    },
    {
      "cell_type": "markdown",
      "source": [
        "## Saving Models"
      ],
      "metadata": {
        "id": "CcxutHS42aYG"
      }
    },
    {
      "cell_type": "code",
      "source": [
        "torch.save(model.state_dict(), \"model.pth\")\n",
        "print(\"Saved PyTorch Model State to model.pth\")"
      ],
      "metadata": {
        "colab": {
          "base_uri": "https://localhost:8080/"
        },
        "id": "V978te6X2izJ",
        "outputId": "0fd8da6d-b261-4ff6-b3a8-87b8ec9c4243"
      },
      "execution_count": null,
      "outputs": [
        {
          "output_type": "stream",
          "name": "stdout",
          "text": [
            "Saved PyTorch Model State to model.pth\n"
          ]
        }
      ]
    },
    {
      "cell_type": "markdown",
      "source": [
        "## Loading Models"
      ],
      "metadata": {
        "id": "Z6_Wm2Gp2np9"
      }
    },
    {
      "cell_type": "code",
      "source": [
        "model = NeuralNetwork().to(device)\n",
        "model.load_state_dict(torch.load(\"model.pth\", weights_only=True))"
      ],
      "metadata": {
        "colab": {
          "base_uri": "https://localhost:8080/"
        },
        "id": "A7lCymD32pqU",
        "outputId": "5ac848fb-3987-4a37-db14-86fca388b4a8"
      },
      "execution_count": null,
      "outputs": [
        {
          "output_type": "execute_result",
          "data": {
            "text/plain": [
              "<All keys matched successfully>"
            ]
          },
          "metadata": {},
          "execution_count": 11
        }
      ]
    },
    {
      "cell_type": "markdown",
      "source": [
        "Making predictions..."
      ],
      "metadata": {
        "id": "uGwvW6Hl2xiE"
      }
    },
    {
      "cell_type": "code",
      "source": [
        "classes = [\n",
        "    \"T-shirt/top\",\n",
        "    \"Trouser\",\n",
        "    \"Pullover\",\n",
        "    \"Dress\",\n",
        "    \"Coat\",\n",
        "    \"Sandal\",\n",
        "    \"Shirt\",\n",
        "    \"Sneaker\",\n",
        "    \"Bag\",\n",
        "    \"Ankle boot\",\n",
        "]\n",
        "\n",
        "model.eval()\n",
        "x, y = test_data[0][0], test_data[0][1]\n",
        "with torch.no_grad():\n",
        "    x = x.to(device)\n",
        "    pred = model(x)\n",
        "    predicted, actual = classes[pred[0].argmax(0)], classes[y]\n",
        "    print(f'Predicted: \"{predicted}\", Actual: \"{actual}\"')"
      ],
      "metadata": {
        "colab": {
          "base_uri": "https://localhost:8080/"
        },
        "id": "7gfM_ebY2z_k",
        "outputId": "55b5ca13-d91c-4887-bf72-213614c20306"
      },
      "execution_count": null,
      "outputs": [
        {
          "output_type": "stream",
          "name": "stdout",
          "text": [
            "Predicted: \"Ankle boot\", Actual: \"Ankle boot\"\n"
          ]
        }
      ]
    },
    {
      "cell_type": "markdown",
      "source": [
        "# PyTorch Fundamentals"
      ],
      "metadata": {
        "id": "0Xdb7WnX5ozW"
      }
    },
    {
      "cell_type": "code",
      "source": [
        "import torch\n",
        "import pandas as pd\n",
        "import numpy as np\n",
        "import matplotlib.pyplot as plt\n",
        "print(torch.__version__)"
      ],
      "metadata": {
        "colab": {
          "base_uri": "https://localhost:8080/"
        },
        "id": "0VcjEOHg5tsq",
        "outputId": "d74d26ec-18bd-4e78-f830-d0480b41fb0c"
      },
      "execution_count": null,
      "outputs": [
        {
          "output_type": "stream",
          "name": "stdout",
          "text": [
            "2.8.0+cu126\n"
          ]
        }
      ]
    },
    {
      "cell_type": "markdown",
      "source": [
        "## Tensors"
      ],
      "metadata": {
        "id": "8q_j09ya7r39"
      }
    },
    {
      "cell_type": "markdown",
      "source": [
        "Creating tensors"
      ],
      "metadata": {
        "id": "_Qd9tFhH7yBw"
      }
    },
    {
      "cell_type": "code",
      "source": [
        "scalar = torch.tensor(7)\n",
        "scalar"
      ],
      "metadata": {
        "colab": {
          "base_uri": "https://localhost:8080/"
        },
        "id": "_Wpe3kzg71FW",
        "outputId": "5a6cfa50-f5f0-47dd-ea94-8237c592cbc5"
      },
      "execution_count": null,
      "outputs": [
        {
          "output_type": "execute_result",
          "data": {
            "text/plain": [
              "tensor(7)"
            ]
          },
          "metadata": {},
          "execution_count": 2
        }
      ]
    },
    {
      "cell_type": "code",
      "source": [
        "scalar.ndim"
      ],
      "metadata": {
        "colab": {
          "base_uri": "https://localhost:8080/"
        },
        "id": "syeFsFEj8aIG",
        "outputId": "77c90f13-d919-4413-8585-0cdfba4edd9f"
      },
      "execution_count": null,
      "outputs": [
        {
          "output_type": "execute_result",
          "data": {
            "text/plain": [
              "0"
            ]
          },
          "metadata": {},
          "execution_count": 3
        }
      ]
    },
    {
      "cell_type": "code",
      "source": [
        "# Tensor as Python int\n",
        "scalar.item()"
      ],
      "metadata": {
        "colab": {
          "base_uri": "https://localhost:8080/"
        },
        "id": "Fn-vygUV8-bu",
        "outputId": "d5856c43-0f54-4dc7-9482-9ca05905fb19"
      },
      "execution_count": null,
      "outputs": [
        {
          "output_type": "execute_result",
          "data": {
            "text/plain": [
              "7"
            ]
          },
          "metadata": {},
          "execution_count": 4
        }
      ]
    },
    {
      "cell_type": "code",
      "source": [
        "# Vector\n",
        "vector = torch.tensor([7, 7])\n",
        "vector"
      ],
      "metadata": {
        "colab": {
          "base_uri": "https://localhost:8080/"
        },
        "id": "ZnvA2bRn9AcV",
        "outputId": "f90e053f-e7e8-4ce5-c061-9d249b13b6c7"
      },
      "execution_count": null,
      "outputs": [
        {
          "output_type": "execute_result",
          "data": {
            "text/plain": [
              "tensor([7, 7])"
            ]
          },
          "metadata": {},
          "execution_count": 6
        }
      ]
    },
    {
      "cell_type": "code",
      "source": [
        "vector.ndim"
      ],
      "metadata": {
        "colab": {
          "base_uri": "https://localhost:8080/"
        },
        "id": "sFyIcMrc9LwQ",
        "outputId": "d122db05-83e5-47ab-9128-3d834e1cb8b9"
      },
      "execution_count": null,
      "outputs": [
        {
          "output_type": "execute_result",
          "data": {
            "text/plain": [
              "1"
            ]
          },
          "metadata": {},
          "execution_count": 7
        }
      ]
    },
    {
      "cell_type": "code",
      "source": [
        "vector.shape"
      ],
      "metadata": {
        "colab": {
          "base_uri": "https://localhost:8080/"
        },
        "id": "XzVEfwP89XMs",
        "outputId": "ed7f634d-c873-4293-ef6a-192e5a96b943"
      },
      "execution_count": null,
      "outputs": [
        {
          "output_type": "execute_result",
          "data": {
            "text/plain": [
              "torch.Size([2])"
            ]
          },
          "metadata": {},
          "execution_count": 8
        }
      ]
    },
    {
      "cell_type": "code",
      "source": [
        "# MATRIX\n",
        "MATRIX = torch.tensor([[7, 8],\n",
        "                       [9, 10]])\n",
        "MATRIX"
      ],
      "metadata": {
        "colab": {
          "base_uri": "https://localhost:8080/"
        },
        "id": "lmQucCkI9x2p",
        "outputId": "f058c47b-c4b3-4c3e-9d9f-be941da77204"
      },
      "execution_count": null,
      "outputs": [
        {
          "output_type": "execute_result",
          "data": {
            "text/plain": [
              "tensor([[ 7,  8],\n",
              "        [ 9, 10]])"
            ]
          },
          "metadata": {},
          "execution_count": 9
        }
      ]
    },
    {
      "cell_type": "code",
      "source": [
        "MATRIX.ndim"
      ],
      "metadata": {
        "colab": {
          "base_uri": "https://localhost:8080/"
        },
        "id": "u8hakuC7_OoY",
        "outputId": "b98d43a0-5285-42af-b007-1f9a2fbf9cf0"
      },
      "execution_count": null,
      "outputs": [
        {
          "output_type": "execute_result",
          "data": {
            "text/plain": [
              "2"
            ]
          },
          "metadata": {},
          "execution_count": 10
        }
      ]
    },
    {
      "cell_type": "code",
      "source": [
        "MATRIX[1]"
      ],
      "metadata": {
        "colab": {
          "base_uri": "https://localhost:8080/"
        },
        "id": "ZOztvzs-_RPJ",
        "outputId": "1fe0a142-a3ee-4395-d57c-522cd3f23e2f"
      },
      "execution_count": null,
      "outputs": [
        {
          "output_type": "execute_result",
          "data": {
            "text/plain": [
              "tensor([ 9, 10])"
            ]
          },
          "metadata": {},
          "execution_count": 12
        }
      ]
    },
    {
      "cell_type": "code",
      "source": [
        "MATRIX.shape"
      ],
      "metadata": {
        "colab": {
          "base_uri": "https://localhost:8080/"
        },
        "id": "9DnqcNOz_UFI",
        "outputId": "85f4666d-019f-4216-e563-894238e73bcc"
      },
      "execution_count": null,
      "outputs": [
        {
          "output_type": "execute_result",
          "data": {
            "text/plain": [
              "torch.Size([2, 2])"
            ]
          },
          "metadata": {},
          "execution_count": 13
        }
      ]
    },
    {
      "cell_type": "code",
      "source": [
        "# Tensor\n",
        "TENSOR = torch.tensor([[[1, 2, 3],\n",
        "                        [3, 6, 9],\n",
        "                        [2, 4, 5]]])\n",
        "TENSOR"
      ],
      "metadata": {
        "colab": {
          "base_uri": "https://localhost:8080/"
        },
        "id": "CcB_halH_akt",
        "outputId": "ba0cba67-6a97-428b-d208-517e94095356"
      },
      "execution_count": null,
      "outputs": [
        {
          "output_type": "execute_result",
          "data": {
            "text/plain": [
              "tensor([[[1, 2, 3],\n",
              "         [3, 6, 9],\n",
              "         [2, 4, 5]]])"
            ]
          },
          "metadata": {},
          "execution_count": 15
        }
      ]
    },
    {
      "cell_type": "code",
      "source": [
        "TENSOR.ndim"
      ],
      "metadata": {
        "colab": {
          "base_uri": "https://localhost:8080/"
        },
        "id": "4FWaklDZ_e7W",
        "outputId": "3593eba6-2db0-40fa-ce7c-e3aa3b1639fb"
      },
      "execution_count": null,
      "outputs": [
        {
          "output_type": "execute_result",
          "data": {
            "text/plain": [
              "3"
            ]
          },
          "metadata": {},
          "execution_count": 16
        }
      ]
    },
    {
      "cell_type": "code",
      "source": [
        "TENSOR.shape"
      ],
      "metadata": {
        "colab": {
          "base_uri": "https://localhost:8080/"
        },
        "id": "agoqCa_Z_5bd",
        "outputId": "e9e3d64b-a228-4202-9204-90ae02f980d1"
      },
      "execution_count": null,
      "outputs": [
        {
          "output_type": "execute_result",
          "data": {
            "text/plain": [
              "torch.Size([1, 3, 3])"
            ]
          },
          "metadata": {},
          "execution_count": 17
        }
      ]
    },
    {
      "cell_type": "code",
      "source": [
        "TENSOR[0]"
      ],
      "metadata": {
        "colab": {
          "base_uri": "https://localhost:8080/"
        },
        "id": "pbtlBZad_7QP",
        "outputId": "872f871a-acaa-4c7b-e928-b0a7cd4996ee"
      },
      "execution_count": null,
      "outputs": [
        {
          "output_type": "execute_result",
          "data": {
            "text/plain": [
              "tensor([[1, 2, 3],\n",
              "        [3, 6, 9],\n",
              "        [2, 4, 5]])"
            ]
          },
          "metadata": {},
          "execution_count": 19
        }
      ]
    },
    {
      "cell_type": "markdown",
      "source": [
        "## Random tensors"
      ],
      "metadata": {
        "id": "3RkpzvnIHXxk"
      }
    },
    {
      "cell_type": "markdown",
      "source": [
        "Neural networks start with tensors full of random numbers and then adjust those random numbers to better represent the data."
      ],
      "metadata": {
        "id": "DalyoC4_HmaI"
      }
    },
    {
      "cell_type": "code",
      "source": [
        "# Random tensor of size (3, 4)\n",
        "random_tensor = torch.rand(3, 4)\n",
        "random_tensor"
      ],
      "metadata": {
        "colab": {
          "base_uri": "https://localhost:8080/"
        },
        "id": "YZk6vWRzHbMQ",
        "outputId": "81c0c2db-6aa9-44ba-fb1a-3e4c9d0df2a2"
      },
      "execution_count": null,
      "outputs": [
        {
          "output_type": "execute_result",
          "data": {
            "text/plain": [
              "tensor([[0.9660, 0.7701, 0.1496, 0.9633],\n",
              "        [0.3812, 0.3887, 0.4191, 0.3924],\n",
              "        [0.7652, 0.1830, 0.9913, 0.5161]])"
            ]
          },
          "metadata": {},
          "execution_count": 8
        }
      ]
    },
    {
      "cell_type": "code",
      "source": [
        "random_tensor.ndim"
      ],
      "metadata": {
        "colab": {
          "base_uri": "https://localhost:8080/"
        },
        "id": "JJG3YgvXIJSM",
        "outputId": "4f7c596b-2a54-4dc7-b548-00586f19eaa3"
      },
      "execution_count": null,
      "outputs": [
        {
          "output_type": "execute_result",
          "data": {
            "text/plain": [
              "2"
            ]
          },
          "metadata": {},
          "execution_count": 21
        }
      ]
    },
    {
      "cell_type": "code",
      "source": [
        "# Random tensor with similar shape to an image tensor\n",
        "# 3 is the amount of color channels\n",
        "# Color channels can come both at the start or the end\n",
        "random_image_size_tensor = torch.rand(size=(224 ,224 ,3 ))\n",
        "random_image_size_tensor.shape, random_image_size_tensor.ndim"
      ],
      "metadata": {
        "colab": {
          "base_uri": "https://localhost:8080/"
        },
        "id": "eJ3Pn19SIMbW",
        "outputId": "244f37aa-8f95-4c70-a7e2-fb8f61bed2a0"
      },
      "execution_count": null,
      "outputs": [
        {
          "output_type": "execute_result",
          "data": {
            "text/plain": [
              "(torch.Size([224, 224, 3]), 3)"
            ]
          },
          "metadata": {},
          "execution_count": 23
        }
      ]
    },
    {
      "cell_type": "markdown",
      "source": [
        "## Zeros and ones"
      ],
      "metadata": {
        "id": "oVb6swquzKz7"
      }
    },
    {
      "cell_type": "code",
      "source": [
        "# Create a tensor of all zeros\n",
        "zeros = torch.zeros((3, 4))\n",
        "zeros"
      ],
      "metadata": {
        "colab": {
          "base_uri": "https://localhost:8080/"
        },
        "id": "DE783bquy_xA",
        "outputId": "ffca5480-46ac-45bc-866d-27c7631ced75"
      },
      "execution_count": null,
      "outputs": [
        {
          "output_type": "execute_result",
          "data": {
            "text/plain": [
              "tensor([[0., 0., 0., 0.],\n",
              "        [0., 0., 0., 0.],\n",
              "        [0., 0., 0., 0.]])"
            ]
          },
          "metadata": {},
          "execution_count": 6
        }
      ]
    },
    {
      "cell_type": "code",
      "source": [
        "# Multiply your targe tensor by the zeros tensor to make the model ignore the values\n",
        "zeros*random_tensor"
      ],
      "metadata": {
        "colab": {
          "base_uri": "https://localhost:8080/"
        },
        "id": "RDpHX8oDzXcm",
        "outputId": "1b49d371-233b-4504-9880-af62ee65aed4"
      },
      "execution_count": null,
      "outputs": [
        {
          "output_type": "execute_result",
          "data": {
            "text/plain": [
              "tensor([[0., 0., 0., 0.],\n",
              "        [0., 0., 0., 0.],\n",
              "        [0., 0., 0., 0.]])"
            ]
          },
          "metadata": {},
          "execution_count": 9
        }
      ]
    },
    {
      "cell_type": "code",
      "source": [
        "# Tensor of all ones\n",
        "ones = torch.ones((3, 4))\n",
        "ones"
      ],
      "metadata": {
        "colab": {
          "base_uri": "https://localhost:8080/"
        },
        "id": "PSnzK13Lzatk",
        "outputId": "be012363-12ec-4e8c-a36c-21ac2ad1ff8e"
      },
      "execution_count": null,
      "outputs": [
        {
          "output_type": "execute_result",
          "data": {
            "text/plain": [
              "tensor([[1., 1., 1., 1.],\n",
              "        [1., 1., 1., 1.],\n",
              "        [1., 1., 1., 1.]])"
            ]
          },
          "metadata": {},
          "execution_count": 10
        }
      ]
    },
    {
      "cell_type": "code",
      "source": [
        "ones.dtype"
      ],
      "metadata": {
        "colab": {
          "base_uri": "https://localhost:8080/"
        },
        "id": "fSkVbyqSz6UV",
        "outputId": "cd940d6d-0bac-49e8-c96e-5622453fa75f"
      },
      "execution_count": null,
      "outputs": [
        {
          "output_type": "execute_result",
          "data": {
            "text/plain": [
              "torch.float32"
            ]
          },
          "metadata": {},
          "execution_count": 11
        }
      ]
    },
    {
      "cell_type": "code",
      "source": [
        "random_tensor.dtype"
      ],
      "metadata": {
        "colab": {
          "base_uri": "https://localhost:8080/"
        },
        "id": "90LmwabHz8ml",
        "outputId": "2a03cce7-4286-4d9e-fab6-aa255a69239f"
      },
      "execution_count": null,
      "outputs": [
        {
          "output_type": "execute_result",
          "data": {
            "text/plain": [
              "torch.float32"
            ]
          },
          "metadata": {},
          "execution_count": 12
        }
      ]
    },
    {
      "cell_type": "markdown",
      "source": [
        "## Range of tensors and tensors-like"
      ],
      "metadata": {
        "id": "Om51SH1c0Q4a"
      }
    },
    {
      "cell_type": "code",
      "source": [
        "# Use torch.arange() instead of torch.range() -> this one is deprecated\n",
        "# Default step is 1\n",
        "torch.arange(start=0, end=1000, step=77)"
      ],
      "metadata": {
        "colab": {
          "base_uri": "https://localhost:8080/"
        },
        "id": "L7Rbh8Ep0T5F",
        "outputId": "6152eee1-9594-4b8a-9617-82e9e24c2e4f"
      },
      "execution_count": null,
      "outputs": [
        {
          "output_type": "execute_result",
          "data": {
            "text/plain": [
              "tensor([  0,  77, 154, 231, 308, 385, 462, 539, 616, 693, 770, 847, 924])"
            ]
          },
          "metadata": {},
          "execution_count": 15
        }
      ]
    },
    {
      "cell_type": "code",
      "source": [
        "one_to_ten = torch.arange(start=1, end=11, step=1)\n",
        "one_to_ten"
      ],
      "metadata": {
        "colab": {
          "base_uri": "https://localhost:8080/"
        },
        "id": "r5caIojN1D60",
        "outputId": "439e6c17-0b5b-4068-a8bc-c9dc39118e28"
      },
      "execution_count": null,
      "outputs": [
        {
          "output_type": "execute_result",
          "data": {
            "text/plain": [
              "tensor([ 1,  2,  3,  4,  5,  6,  7,  8,  9, 10])"
            ]
          },
          "metadata": {},
          "execution_count": 16
        }
      ]
    },
    {
      "cell_type": "code",
      "source": [
        "# Creating tensors like\n",
        "ten_zeros = torch.zeros_like(input=one_to_ten)\n",
        "ten_zeros"
      ],
      "metadata": {
        "colab": {
          "base_uri": "https://localhost:8080/"
        },
        "id": "FH8ityl40Xj5",
        "outputId": "f76e33d0-274c-43ad-8661-a2cc3b97c199"
      },
      "execution_count": null,
      "outputs": [
        {
          "output_type": "execute_result",
          "data": {
            "text/plain": [
              "tensor([0, 0, 0, 0, 0, 0, 0, 0, 0, 0])"
            ]
          },
          "metadata": {},
          "execution_count": 18
        }
      ]
    },
    {
      "cell_type": "markdown",
      "source": [
        "## Tensor datatypes"
      ],
      "metadata": {
        "id": "fFpgNxsp12Mk"
      }
    },
    {
      "cell_type": "code",
      "source": [
        "# Float 32 tensor\n",
        "float_32_tensor = torch.tensor([3.0, 6.0, 9.0],\n",
        "                               dtype=None, # What datatype is the tensor (ex.: torch.float16, torch.float32)\n",
        "                               device=None, # What device is your tensor on (ex.: cuda)\n",
        "                               requires_grad=False) # Whether or not to track gradients with this tensors operations\n",
        "float_32_tensor"
      ],
      "metadata": {
        "colab": {
          "base_uri": "https://localhost:8080/"
        },
        "id": "pWtBEZvv14IB",
        "outputId": "6c72f7ab-fbd4-403a-dde8-bbaedaabfc92"
      },
      "execution_count": null,
      "outputs": [
        {
          "output_type": "execute_result",
          "data": {
            "text/plain": [
              "tensor([3., 6., 9.])"
            ]
          },
          "metadata": {},
          "execution_count": 22
        }
      ]
    },
    {
      "cell_type": "code",
      "source": [
        "# Converting float 32 to float 16\n",
        "float_16_tensor = float_32_tensor.type(torch.float16)\n",
        "float_16_tensor"
      ],
      "metadata": {
        "colab": {
          "base_uri": "https://localhost:8080/"
        },
        "id": "rYFlQNbK2Kzt",
        "outputId": "114bf1fc-320f-4038-9d78-3de2d7f29990"
      },
      "execution_count": null,
      "outputs": [
        {
          "output_type": "execute_result",
          "data": {
            "text/plain": [
              "tensor([3., 6., 9.], dtype=torch.float16)"
            ]
          },
          "metadata": {},
          "execution_count": 26
        }
      ]
    },
    {
      "cell_type": "code",
      "source": [
        "float_16_tensor * float_32_tensor"
      ],
      "metadata": {
        "colab": {
          "base_uri": "https://localhost:8080/"
        },
        "id": "Z04pKQyX4w1R",
        "outputId": "b738bc6d-4d83-4172-8c4f-8cc241e9a3aa"
      },
      "execution_count": null,
      "outputs": [
        {
          "output_type": "execute_result",
          "data": {
            "text/plain": [
              "tensor([ 9., 36., 81.])"
            ]
          },
          "metadata": {},
          "execution_count": 27
        }
      ]
    },
    {
      "cell_type": "code",
      "source": [
        "int_32_tensor = torch.tensor([3, 6, 9], dtype=torch.int32)\n",
        "int_32_tensor"
      ],
      "metadata": {
        "colab": {
          "base_uri": "https://localhost:8080/"
        },
        "id": "SpdoEgK1402Y",
        "outputId": "bd662426-9024-4761-eb45-1595d047cf63"
      },
      "execution_count": null,
      "outputs": [
        {
          "output_type": "execute_result",
          "data": {
            "text/plain": [
              "tensor([3, 6, 9], dtype=torch.int32)"
            ]
          },
          "metadata": {},
          "execution_count": 30
        }
      ]
    },
    {
      "cell_type": "code",
      "source": [
        "float_32_tensor * int_32_tensor"
      ],
      "metadata": {
        "colab": {
          "base_uri": "https://localhost:8080/"
        },
        "id": "UWgbUYbJ5N2k",
        "outputId": "e6bdf853-bdd0-4e0c-a370-a6375047f556"
      },
      "execution_count": null,
      "outputs": [
        {
          "output_type": "execute_result",
          "data": {
            "text/plain": [
              "tensor([ 9., 36., 81.])"
            ]
          },
          "metadata": {},
          "execution_count": 31
        }
      ]
    },
    {
      "cell_type": "markdown",
      "source": [
        "## Getting information from tensors"
      ],
      "metadata": {
        "id": "ydjf0Z_W6Lxk"
      }
    },
    {
      "cell_type": "markdown",
      "source": [
        "How to get each tensor attribute:\n",
        "- `tensor.dtype`: to get datatype from a tensor\n",
        "- `tensor.shape`: to get shape from a tensor\n",
        "- `tensor.device`: to get device from a tensor"
      ],
      "metadata": {
        "id": "HrI0G6md6SIh"
      }
    },
    {
      "cell_type": "code",
      "source": [
        "some_tensor = torch.rand(3, 4)\n",
        "some_tensor"
      ],
      "metadata": {
        "colab": {
          "base_uri": "https://localhost:8080/"
        },
        "id": "Z7ixQPrd6onF",
        "outputId": "65387eb3-01c2-4d3f-97b4-13577338f9f1"
      },
      "execution_count": null,
      "outputs": [
        {
          "output_type": "execute_result",
          "data": {
            "text/plain": [
              "tensor([[0.6167, 0.1128, 0.7814, 0.0429],\n",
              "        [0.8781, 0.0469, 0.4747, 0.0138],\n",
              "        [0.3139, 0.3137, 0.2349, 0.9759]])"
            ]
          },
          "metadata": {},
          "execution_count": 37
        }
      ]
    },
    {
      "cell_type": "code",
      "source": [
        "print(some_tensor)\n",
        "print(f\"Datatype of tensor: {some_tensor.dtype}\")\n",
        "print(f\"Shape of tensor: {some_tensor.shape}\")\n",
        "print(f\"Device tensor is on: {some_tensor.device}\")"
      ],
      "metadata": {
        "colab": {
          "base_uri": "https://localhost:8080/"
        },
        "id": "hh0IAo5v617l",
        "outputId": "afa249e3-cf03-4784-aeb7-cdd4004a8337"
      },
      "execution_count": null,
      "outputs": [
        {
          "output_type": "stream",
          "name": "stdout",
          "text": [
            "tensor([[0.6167, 0.1128, 0.7814, 0.0429],\n",
            "        [0.8781, 0.0469, 0.4747, 0.0138],\n",
            "        [0.3139, 0.3137, 0.2349, 0.9759]])\n",
            "Datatype of tensor: torch.float32\n",
            "Shape of tensor: torch.Size([3, 4])\n",
            "Device tensor is on: cpu\n"
          ]
        }
      ]
    },
    {
      "cell_type": "markdown",
      "source": [
        "## Manipulating tensors (tensor operations)"
      ],
      "metadata": {
        "id": "vns3ong07Qpi"
      }
    },
    {
      "cell_type": "markdown",
      "source": [
        "- Addiction\n",
        "- Subtraction\n",
        "- Multiplication (element-wise)\n",
        "- Division\n",
        "- Matrix multiplication"
      ],
      "metadata": {
        "id": "gkZShA648OTM"
      }
    },
    {
      "cell_type": "code",
      "source": [
        "# Addiction\n",
        "tensor = torch.tensor([1, 2, 3])\n",
        "tensor + 100"
      ],
      "metadata": {
        "colab": {
          "base_uri": "https://localhost:8080/"
        },
        "id": "6FvxypDg8cXQ",
        "outputId": "d3bbc698-eb3d-4bdf-c756-2045045a130f"
      },
      "execution_count": null,
      "outputs": [
        {
          "output_type": "execute_result",
          "data": {
            "text/plain": [
              "tensor([101, 102, 103])"
            ]
          },
          "metadata": {},
          "execution_count": 42
        }
      ]
    },
    {
      "cell_type": "code",
      "source": [
        "# Multiplication\n",
        "tensor * 10"
      ],
      "metadata": {
        "colab": {
          "base_uri": "https://localhost:8080/"
        },
        "id": "Q6ZTZqKe8s7v",
        "outputId": "0b0fc94a-7fff-49c2-fdba-2855ef0e2e8d"
      },
      "execution_count": null,
      "outputs": [
        {
          "output_type": "execute_result",
          "data": {
            "text/plain": [
              "tensor([10, 20, 30])"
            ]
          },
          "metadata": {},
          "execution_count": 43
        }
      ]
    },
    {
      "cell_type": "code",
      "source": [
        "# Subtraction\n",
        "tensor - 10"
      ],
      "metadata": {
        "colab": {
          "base_uri": "https://localhost:8080/"
        },
        "id": "3Es7gJFY81Lj",
        "outputId": "988a7eef-31bb-4f2d-e321-f4f539f0e710"
      },
      "execution_count": null,
      "outputs": [
        {
          "output_type": "execute_result",
          "data": {
            "text/plain": [
              "tensor([-9, -8, -7])"
            ]
          },
          "metadata": {},
          "execution_count": 44
        }
      ]
    },
    {
      "cell_type": "code",
      "source": [
        "# PyTorch in-built functions\n",
        "torch.mul(tensor, 10)"
      ],
      "metadata": {
        "colab": {
          "base_uri": "https://localhost:8080/"
        },
        "id": "34h5rZPJ9B7b",
        "outputId": "1eb96395-865e-4b32-e9d4-401479baada1"
      },
      "execution_count": null,
      "outputs": [
        {
          "output_type": "execute_result",
          "data": {
            "text/plain": [
              "tensor([10, 20, 30])"
            ]
          },
          "metadata": {},
          "execution_count": 46
        }
      ]
    },
    {
      "cell_type": "code",
      "source": [
        "torch.add(tensor, 10)"
      ],
      "metadata": {
        "colab": {
          "base_uri": "https://localhost:8080/"
        },
        "id": "CFzZYxG79G-L",
        "outputId": "3fe10a95-d733-4399-ef45-9f944726927b"
      },
      "execution_count": null,
      "outputs": [
        {
          "output_type": "execute_result",
          "data": {
            "text/plain": [
              "tensor([11, 12, 13])"
            ]
          },
          "metadata": {},
          "execution_count": 47
        }
      ]
    },
    {
      "cell_type": "markdown",
      "source": [
        "## Matrix multiplication"
      ],
      "metadata": {
        "id": "q9AiRQIz9RY3"
      }
    },
    {
      "cell_type": "code",
      "source": [
        "# Element wise\n",
        "print(tensor, \"*\", tensor)\n",
        "print(f\"Equals: {tensor * tensor}\")"
      ],
      "metadata": {
        "colab": {
          "base_uri": "https://localhost:8080/"
        },
        "id": "Ijprfjr29oDT",
        "outputId": "b3f6764e-3fe5-41c2-c0e3-e87a926a004d"
      },
      "execution_count": null,
      "outputs": [
        {
          "output_type": "stream",
          "name": "stdout",
          "text": [
            "tensor([1, 2, 3]) * tensor([1, 2, 3])\n",
            "Equals: tensor([1, 4, 9])\n"
          ]
        }
      ]
    },
    {
      "cell_type": "code",
      "source": [
        "# Matrix multiplication (dot product)\n",
        "# It's faster than manually multiplying\n",
        "torch.matmul(tensor, tensor)"
      ],
      "metadata": {
        "colab": {
          "base_uri": "https://localhost:8080/"
        },
        "id": "doYNy3aS-lKy",
        "outputId": "9d090136-6316-4d19-ff0b-1eb1b69a5e10"
      },
      "execution_count": null,
      "outputs": [
        {
          "output_type": "execute_result",
          "data": {
            "text/plain": [
              "tensor(14)"
            ]
          },
          "metadata": {},
          "execution_count": 49
        }
      ]
    },
    {
      "cell_type": "code",
      "source": [
        "%%time\n",
        "value = 0\n",
        "for i in range(len(tensor)):\n",
        "  value += tensor[i] * tensor[i]\n",
        "print(value)"
      ],
      "metadata": {
        "colab": {
          "base_uri": "https://localhost:8080/"
        },
        "id": "MdyZApkE-rlM",
        "outputId": "544248ea-6350-4888-ec8e-efc190f9c3cf"
      },
      "execution_count": null,
      "outputs": [
        {
          "output_type": "stream",
          "name": "stdout",
          "text": [
            "tensor(14)\n",
            "CPU times: user 1.52 ms, sys: 0 ns, total: 1.52 ms\n",
            "Wall time: 1.98 ms\n"
          ]
        }
      ]
    },
    {
      "cell_type": "code",
      "source": [
        "%%time\n",
        "torch.matmul(tensor, tensor)"
      ],
      "metadata": {
        "colab": {
          "base_uri": "https://localhost:8080/"
        },
        "id": "An0hK1xd_dHp",
        "outputId": "afeb41a0-8c4b-46ef-c98b-8c2a8ef27d6c"
      },
      "execution_count": null,
      "outputs": [
        {
          "output_type": "stream",
          "name": "stdout",
          "text": [
            "CPU times: user 278 µs, sys: 9 µs, total: 287 µs\n",
            "Wall time: 230 µs\n"
          ]
        },
        {
          "output_type": "execute_result",
          "data": {
            "text/plain": [
              "tensor(14)"
            ]
          },
          "metadata": {},
          "execution_count": 90
        }
      ]
    },
    {
      "cell_type": "markdown",
      "source": [
        "## Shape errors"
      ],
      "metadata": {
        "id": "l-fmYVdU_ppW"
      }
    },
    {
      "cell_type": "markdown",
      "source": [
        "1.  The inner dimensions must match:\n",
        "* `(3, 2) @ (3, 2)` won't work\n",
        "* `(2, 3) @ (3, 2)` will work\n",
        "* `(3, 2) @ (2, 3)` will work\n",
        " __ __\n",
        "**OBS:** The resulting matrix has the shape of the outer dimensions !\n",
        "* `(2, 3) @ (3, 2)` -> `(2, 2)`\n",
        "* `(3, 2) @ (2, 3)` -> `(3, 3)`"
      ],
      "metadata": {
        "id": "hCKOGDoEL6s6"
      }
    },
    {
      "cell_type": "code",
      "source": [
        "# Won't work\n",
        "torch.matmul(torch.rand(3, 2), torch.rand(3, 2))"
      ],
      "metadata": {
        "colab": {
          "base_uri": "https://localhost:8080/",
          "height": 159
        },
        "id": "kfPp6hzPLz4L",
        "outputId": "e6901bc7-2a8d-4770-a2a2-e9b561667382"
      },
      "execution_count": null,
      "outputs": [
        {
          "output_type": "error",
          "ename": "RuntimeError",
          "evalue": "mat1 and mat2 shapes cannot be multiplied (3x2 and 3x2)",
          "traceback": [
            "\u001b[0;31m---------------------------------------------------------------------------\u001b[0m",
            "\u001b[0;31mRuntimeError\u001b[0m                              Traceback (most recent call last)",
            "\u001b[0;32m/tmp/ipython-input-472585847.py\u001b[0m in \u001b[0;36m<cell line: 0>\u001b[0;34m()\u001b[0m\n\u001b[1;32m      1\u001b[0m \u001b[0;31m# won't work\u001b[0m\u001b[0;34m\u001b[0m\u001b[0;34m\u001b[0m\u001b[0m\n\u001b[0;32m----> 2\u001b[0;31m \u001b[0mtorch\u001b[0m\u001b[0;34m.\u001b[0m\u001b[0mmatmul\u001b[0m\u001b[0;34m(\u001b[0m\u001b[0mtorch\u001b[0m\u001b[0;34m.\u001b[0m\u001b[0mrand\u001b[0m\u001b[0;34m(\u001b[0m\u001b[0;36m3\u001b[0m\u001b[0;34m,\u001b[0m \u001b[0;36m2\u001b[0m\u001b[0;34m)\u001b[0m\u001b[0;34m,\u001b[0m \u001b[0mtorch\u001b[0m\u001b[0;34m.\u001b[0m\u001b[0mrand\u001b[0m\u001b[0;34m(\u001b[0m\u001b[0;36m3\u001b[0m\u001b[0;34m,\u001b[0m \u001b[0;36m2\u001b[0m\u001b[0;34m)\u001b[0m\u001b[0;34m)\u001b[0m\u001b[0;34m\u001b[0m\u001b[0;34m\u001b[0m\u001b[0m\n\u001b[0m",
            "\u001b[0;31mRuntimeError\u001b[0m: mat1 and mat2 shapes cannot be multiplied (3x2 and 3x2)"
          ]
        }
      ]
    },
    {
      "cell_type": "code",
      "source": [
        "# Will work\n",
        "torch.matmul(torch.rand(2, 3), torch.rand(3, 2))"
      ],
      "metadata": {
        "colab": {
          "base_uri": "https://localhost:8080/"
        },
        "id": "luuV1Cv8M6Ob",
        "outputId": "f47af641-75bc-42cd-bb26-681cbd9d77b9"
      },
      "execution_count": null,
      "outputs": [
        {
          "output_type": "execute_result",
          "data": {
            "text/plain": [
              "tensor([[1.1536, 0.9779],\n",
              "        [1.4037, 0.8051]])"
            ]
          },
          "metadata": {},
          "execution_count": 95
        }
      ]
    },
    {
      "cell_type": "code",
      "source": [
        "# Results in a 3x3 matrix\n",
        "torch.matmul(torch.rand(3, 2), torch.rand(2, 3))"
      ],
      "metadata": {
        "colab": {
          "base_uri": "https://localhost:8080/"
        },
        "id": "NKlsmoZwQb01",
        "outputId": "0435bd99-e9c1-4bfb-af46-4bd5e5cef337"
      },
      "execution_count": null,
      "outputs": [
        {
          "output_type": "execute_result",
          "data": {
            "text/plain": [
              "tensor([[0.5401, 0.5637, 0.7234],\n",
              "        [0.7801, 0.5598, 1.0120],\n",
              "        [0.5325, 0.3659, 0.6887]])"
            ]
          },
          "metadata": {},
          "execution_count": 97
        }
      ]
    },
    {
      "cell_type": "code",
      "source": [
        "# Shapes for matrix multiplication\n",
        "tensor_A = torch.tensor([[1, 2],\n",
        "                         [3, 4],\n",
        "                         [5, 6]])\n",
        "\n",
        "tensor_B = torch.tensor([[7, 10],\n",
        "                         [8, 11],\n",
        "                         [9, 12]])\n",
        "torch.mm(tensor_A, tensor_B) # alias for matmul"
      ],
      "metadata": {
        "colab": {
          "base_uri": "https://localhost:8080/",
          "height": 176
        },
        "id": "cD6XeMPsRLdu",
        "outputId": "1e42f7b6-71c6-4ae3-f390-b9e333b03baa"
      },
      "execution_count": null,
      "outputs": [
        {
          "output_type": "error",
          "ename": "RuntimeError",
          "evalue": "mat1 and mat2 shapes cannot be multiplied (3x2 and 3x2)",
          "traceback": [
            "\u001b[0;31m---------------------------------------------------------------------------\u001b[0m",
            "\u001b[0;31mRuntimeError\u001b[0m                              Traceback (most recent call last)",
            "\u001b[0;32m/tmp/ipython-input-3532448712.py\u001b[0m in \u001b[0;36m<cell line: 0>\u001b[0;34m()\u001b[0m\n\u001b[1;32m      7\u001b[0m                          \u001b[0;34m[\u001b[0m\u001b[0;36m8\u001b[0m\u001b[0;34m,\u001b[0m \u001b[0;36m11\u001b[0m\u001b[0;34m]\u001b[0m\u001b[0;34m,\u001b[0m\u001b[0;34m\u001b[0m\u001b[0;34m\u001b[0m\u001b[0m\n\u001b[1;32m      8\u001b[0m                          [9, 12]])\n\u001b[0;32m----> 9\u001b[0;31m \u001b[0mtorch\u001b[0m\u001b[0;34m.\u001b[0m\u001b[0mmm\u001b[0m\u001b[0;34m(\u001b[0m\u001b[0mtensor_A\u001b[0m\u001b[0;34m,\u001b[0m \u001b[0mtensor_B\u001b[0m\u001b[0;34m)\u001b[0m \u001b[0;31m# alias for matmul\u001b[0m\u001b[0;34m\u001b[0m\u001b[0;34m\u001b[0m\u001b[0m\n\u001b[0m",
            "\u001b[0;31mRuntimeError\u001b[0m: mat1 and mat2 shapes cannot be multiplied (3x2 and 3x2)"
          ]
        }
      ]
    },
    {
      "cell_type": "code",
      "source": [
        "tensor_A.shape, tensor_B.shape"
      ],
      "metadata": {
        "colab": {
          "base_uri": "https://localhost:8080/"
        },
        "id": "z-42cpzNRgyE",
        "outputId": "89c8dd04-8de6-4d81-f151-954a3f242e10"
      },
      "execution_count": null,
      "outputs": [
        {
          "output_type": "execute_result",
          "data": {
            "text/plain": [
              "(torch.Size([3, 2]), torch.Size([3, 2]))"
            ]
          },
          "metadata": {},
          "execution_count": 99
        }
      ]
    },
    {
      "cell_type": "markdown",
      "source": [
        "We can fix this issue by manipulating the shape of one of our tensors using a **transporse**"
      ],
      "metadata": {
        "id": "ctu9f9_nRyM3"
      }
    },
    {
      "cell_type": "code",
      "source": [
        "tensor_B.T, tensor_B.T.shape"
      ],
      "metadata": {
        "colab": {
          "base_uri": "https://localhost:8080/"
        },
        "id": "6pyKu1jIRtY5",
        "outputId": "652e5c25-1020-4f7d-da48-7c088e1a051f"
      },
      "execution_count": null,
      "outputs": [
        {
          "output_type": "execute_result",
          "data": {
            "text/plain": [
              "(tensor([[ 7,  8,  9],\n",
              "         [10, 11, 12]]),\n",
              " torch.Size([2, 3]))"
            ]
          },
          "metadata": {},
          "execution_count": 105
        }
      ]
    },
    {
      "cell_type": "code",
      "source": [
        "# Now it will work\n",
        "torch.matmul(tensor_A, tensor_B.T)"
      ],
      "metadata": {
        "colab": {
          "base_uri": "https://localhost:8080/"
        },
        "id": "Hzquuw1QSDZb",
        "outputId": "b811c8d9-a4de-4c78-d454-4fdd74bf42bd"
      },
      "execution_count": null,
      "outputs": [
        {
          "output_type": "execute_result",
          "data": {
            "text/plain": [
              "tensor([[ 27,  30,  33],\n",
              "        [ 61,  68,  75],\n",
              "        [ 95, 106, 117]])"
            ]
          },
          "metadata": {},
          "execution_count": 106
        }
      ]
    },
    {
      "cell_type": "markdown",
      "source": [
        "## Finding the min, mean, sum, etc (tensor aggregation)"
      ],
      "metadata": {
        "id": "9ICRj-ZXS7dO"
      }
    },
    {
      "cell_type": "code",
      "source": [
        "x = torch.arange(1, 100, 10)\n",
        "x"
      ],
      "metadata": {
        "colab": {
          "base_uri": "https://localhost:8080/"
        },
        "id": "mM9ZsHx9TNrj",
        "outputId": "7781e066-6a53-4fbd-a98b-36afa95f1bc0"
      },
      "execution_count": null,
      "outputs": [
        {
          "output_type": "execute_result",
          "data": {
            "text/plain": [
              "tensor([ 1, 11, 21, 31, 41, 51, 61, 71, 81, 91])"
            ]
          },
          "metadata": {},
          "execution_count": 119
        }
      ]
    },
    {
      "cell_type": "code",
      "source": [
        "torch.max(x), x.max()"
      ],
      "metadata": {
        "colab": {
          "base_uri": "https://localhost:8080/"
        },
        "id": "lZs7s1MlTRAv",
        "outputId": "cb7cabd1-cfbb-4419-cd60-feebdc3011bd"
      },
      "execution_count": null,
      "outputs": [
        {
          "output_type": "execute_result",
          "data": {
            "text/plain": [
              "(tensor(91), tensor(91))"
            ]
          },
          "metadata": {},
          "execution_count": 120
        }
      ]
    },
    {
      "cell_type": "code",
      "source": [
        "torch.mean(x.type(torch.float32))"
      ],
      "metadata": {
        "colab": {
          "base_uri": "https://localhost:8080/"
        },
        "id": "3E86owVETWj3",
        "outputId": "efa07016-8c99-43ed-bcef-110f62b40efe"
      },
      "execution_count": null,
      "outputs": [
        {
          "output_type": "execute_result",
          "data": {
            "text/plain": [
              "tensor(46.)"
            ]
          },
          "metadata": {},
          "execution_count": 121
        }
      ]
    },
    {
      "cell_type": "code",
      "source": [
        "torch.sum(x)"
      ],
      "metadata": {
        "colab": {
          "base_uri": "https://localhost:8080/"
        },
        "id": "vEtm5qliTcX8",
        "outputId": "38ccc212-810e-43f5-f3f7-ae599fde3f65"
      },
      "execution_count": null,
      "outputs": [
        {
          "output_type": "execute_result",
          "data": {
            "text/plain": [
              "tensor(460)"
            ]
          },
          "metadata": {},
          "execution_count": 122
        }
      ]
    },
    {
      "cell_type": "markdown",
      "source": [
        "## Positional min and max"
      ],
      "metadata": {
        "id": "m6zsRPUEVrCN"
      }
    },
    {
      "cell_type": "code",
      "source": [
        "x.argmin()"
      ],
      "metadata": {
        "colab": {
          "base_uri": "https://localhost:8080/"
        },
        "id": "faJ3-Lo4WUMm",
        "outputId": "43f5eae4-6d24-4c35-ae47-16005c3714b7"
      },
      "execution_count": null,
      "outputs": [
        {
          "output_type": "execute_result",
          "data": {
            "text/plain": [
              "tensor(0)"
            ]
          },
          "metadata": {},
          "execution_count": 123
        }
      ]
    },
    {
      "cell_type": "code",
      "source": [
        "x[0]"
      ],
      "metadata": {
        "colab": {
          "base_uri": "https://localhost:8080/"
        },
        "id": "nipidQmPWWHg",
        "outputId": "6d75fac9-c415-4ccf-b24b-65f021653701"
      },
      "execution_count": null,
      "outputs": [
        {
          "output_type": "execute_result",
          "data": {
            "text/plain": [
              "tensor(1)"
            ]
          },
          "metadata": {},
          "execution_count": 124
        }
      ]
    },
    {
      "cell_type": "code",
      "source": [
        "x.argmax()"
      ],
      "metadata": {
        "colab": {
          "base_uri": "https://localhost:8080/"
        },
        "id": "p7uqDvSgWZNi",
        "outputId": "5625f859-0de0-4134-93de-fed0950776c7"
      },
      "execution_count": null,
      "outputs": [
        {
          "output_type": "execute_result",
          "data": {
            "text/plain": [
              "tensor(9)"
            ]
          },
          "metadata": {},
          "execution_count": 125
        }
      ]
    },
    {
      "cell_type": "code",
      "source": [
        "x[9]"
      ],
      "metadata": {
        "colab": {
          "base_uri": "https://localhost:8080/"
        },
        "id": "xvGS6ju6Wsol",
        "outputId": "168921b6-a74a-4e8d-ae21-95c2686b3966"
      },
      "execution_count": null,
      "outputs": [
        {
          "output_type": "execute_result",
          "data": {
            "text/plain": [
              "tensor(91)"
            ]
          },
          "metadata": {},
          "execution_count": 126
        }
      ]
    },
    {
      "cell_type": "markdown",
      "source": [
        "## Reshaping, stacking, squeezing and unsqueezing tensors"
      ],
      "metadata": {
        "id": "sMOy4Y46Wt_S"
      }
    },
    {
      "cell_type": "markdown",
      "source": [
        "* Reshaping - reshapes an input tensor to a defined shape\n",
        "* View - return a view of an input tensor of certain shape but keep the same memory as the original tensor\n",
        "* Stacking - combine multiple tensors on top of each other (vstack) or side by side (hstack)\n",
        "* Squeeze - remove all `1` dimensions from a tensor\n",
        "* Unsqueeze - add `1` dimension to a target tensor\n",
        "* Permute - return a view of the input with dimensions permuted (swapped) in a certain way"
      ],
      "metadata": {
        "id": "AuTk5Bo8XI6N"
      }
    },
    {
      "cell_type": "code",
      "source": [
        "x = torch.arange(1., 11.)\n",
        "x, x.shape"
      ],
      "metadata": {
        "colab": {
          "base_uri": "https://localhost:8080/"
        },
        "id": "dl0LlX5NXe0z",
        "outputId": "f7138e4f-24a2-47e9-9348-88d4efaa6229"
      },
      "execution_count": null,
      "outputs": [
        {
          "output_type": "execute_result",
          "data": {
            "text/plain": [
              "(tensor([ 1.,  2.,  3.,  4.,  5.,  6.,  7.,  8.,  9., 10.]), torch.Size([10]))"
            ]
          },
          "metadata": {},
          "execution_count": 134
        }
      ]
    },
    {
      "cell_type": "code",
      "source": [
        "# Add an extra dimension\n",
        "x_reshaped = x.reshape(10, 1)\n",
        "x_reshaped, x_reshaped.shape"
      ],
      "metadata": {
        "colab": {
          "base_uri": "https://localhost:8080/"
        },
        "id": "XFFSQ7KbYb_o",
        "outputId": "3e74f923-6830-4833-e396-174acf86bd59"
      },
      "execution_count": null,
      "outputs": [
        {
          "output_type": "execute_result",
          "data": {
            "text/plain": [
              "(tensor([[ 5.],\n",
              "         [ 2.],\n",
              "         [ 3.],\n",
              "         [ 4.],\n",
              "         [ 5.],\n",
              "         [ 6.],\n",
              "         [ 7.],\n",
              "         [ 8.],\n",
              "         [ 9.],\n",
              "         [10.]]),\n",
              " torch.Size([10, 1]))"
            ]
          },
          "metadata": {},
          "execution_count": 151
        }
      ]
    },
    {
      "cell_type": "code",
      "source": [
        "# Changing the view\n",
        "z = x.view(1, 10)\n",
        "z, z.shape"
      ],
      "metadata": {
        "colab": {
          "base_uri": "https://localhost:8080/"
        },
        "id": "iqfmaXVhYegA",
        "outputId": "56b5663a-b102-4709-b03e-0ded9866a716"
      },
      "execution_count": null,
      "outputs": [
        {
          "output_type": "execute_result",
          "data": {
            "text/plain": [
              "(tensor([[ 5.,  2.,  3.,  4.,  5.,  6.,  7.,  8.,  9., 10.]]),\n",
              " torch.Size([1, 10]))"
            ]
          },
          "metadata": {},
          "execution_count": 152
        }
      ]
    },
    {
      "cell_type": "markdown",
      "source": [
        "Changing z changes x, because a view of a tensor shares the same memory as the original"
      ],
      "metadata": {
        "id": "RIAVq3hYZdIi"
      }
    },
    {
      "cell_type": "code",
      "source": [
        "z[:, 0] = 5\n",
        "z, x"
      ],
      "metadata": {
        "colab": {
          "base_uri": "https://localhost:8080/"
        },
        "id": "QYnewJ2cZur5",
        "outputId": "b716ab1e-9e6b-4fe3-a979-cad7a7698717"
      },
      "execution_count": null,
      "outputs": [
        {
          "output_type": "execute_result",
          "data": {
            "text/plain": [
              "(tensor([[ 5.,  2.,  3.,  4.,  5.,  6.,  7.,  8.,  9., 10.]]),\n",
              " tensor([ 5.,  2.,  3.,  4.,  5.,  6.,  7.,  8.,  9., 10.]))"
            ]
          },
          "metadata": {},
          "execution_count": 153
        }
      ]
    },
    {
      "cell_type": "code",
      "source": [
        "# Stack tensors on top of each other\n",
        "x_stacked = torch.stack([x, x, x, x], dim=0)\n",
        "x_stacked"
      ],
      "metadata": {
        "colab": {
          "base_uri": "https://localhost:8080/"
        },
        "id": "V5GXWcPlZ395",
        "outputId": "42f10355-e406-4a65-f0bd-2b1ab381ab5c"
      },
      "execution_count": null,
      "outputs": [
        {
          "output_type": "execute_result",
          "data": {
            "text/plain": [
              "tensor([[ 5.,  2.,  3.,  4.,  5.,  6.,  7.,  8.,  9., 10.],\n",
              "        [ 5.,  2.,  3.,  4.,  5.,  6.,  7.,  8.,  9., 10.],\n",
              "        [ 5.,  2.,  3.,  4.,  5.,  6.,  7.,  8.,  9., 10.],\n",
              "        [ 5.,  2.,  3.,  4.,  5.,  6.,  7.,  8.,  9., 10.]])"
            ]
          },
          "metadata": {},
          "execution_count": 154
        }
      ]
    },
    {
      "cell_type": "code",
      "source": [
        "x_reshaped.squeeze()"
      ],
      "metadata": {
        "colab": {
          "base_uri": "https://localhost:8080/"
        },
        "id": "ObIqlwYQal2a",
        "outputId": "13c2d1be-616f-4e02-ccdd-17dfb4e2b8a6"
      },
      "execution_count": null,
      "outputs": [
        {
          "output_type": "execute_result",
          "data": {
            "text/plain": [
              "tensor([ 5.,  2.,  3.,  4.,  5.,  6.,  7.,  8.,  9., 10.])"
            ]
          },
          "metadata": {},
          "execution_count": 155
        }
      ]
    },
    {
      "cell_type": "code",
      "source": [
        "# Shape before squeezing\n",
        "x_reshaped.shape"
      ],
      "metadata": {
        "colab": {
          "base_uri": "https://localhost:8080/"
        },
        "id": "BQorZCybbzHD",
        "outputId": "87414257-295d-4272-a74f-3e84792027d5"
      },
      "execution_count": null,
      "outputs": [
        {
          "output_type": "execute_result",
          "data": {
            "text/plain": [
              "torch.Size([10, 1])"
            ]
          },
          "metadata": {},
          "execution_count": 158
        }
      ]
    },
    {
      "cell_type": "code",
      "source": [
        "# Shape after squeezing\n",
        "x_reshaped.squeeze().shape"
      ],
      "metadata": {
        "colab": {
          "base_uri": "https://localhost:8080/"
        },
        "id": "w1kmFhUgbcPb",
        "outputId": "552588bc-fd8e-4237-cbad-e09efe9f9f32"
      },
      "execution_count": null,
      "outputs": [
        {
          "output_type": "execute_result",
          "data": {
            "text/plain": [
              "torch.Size([10])"
            ]
          },
          "metadata": {},
          "execution_count": 159
        }
      ]
    },
    {
      "cell_type": "code",
      "source": [
        "# Unsqueeze\n",
        "x_squeezed = x_reshaped.squeeze()\n",
        "\n",
        "x_unsqueezed = x_squeezed.unsqueeze(dim=0)\n",
        "x_unsqueezed, x_unsqueezed.shape"
      ],
      "metadata": {
        "colab": {
          "base_uri": "https://localhost:8080/"
        },
        "id": "_iRBwoeDcE-H",
        "outputId": "6fa6a0e9-036d-4dcb-ba40-29ea80bf5e78"
      },
      "execution_count": null,
      "outputs": [
        {
          "output_type": "execute_result",
          "data": {
            "text/plain": [
              "(tensor([[ 5.,  2.,  3.,  4.,  5.,  6.,  7.,  8.,  9., 10.]]),\n",
              " torch.Size([1, 10]))"
            ]
          },
          "metadata": {},
          "execution_count": 163
        }
      ]
    },
    {
      "cell_type": "code",
      "source": [
        "# Permute\n",
        "x_original = torch.rand(size=(224, 224, 3)) # image of height: 224, width: 224 and 3 color channels\n",
        "\n",
        "# Permute the original tensor to rearrange the axis (or dim) order\n",
        "x_permuted = x_original.permute(2, 0, 1) # shifts axis 0 to 1, 1 to 2 and 2 to 0\n",
        "\n",
        "print(f\"Previous shape: {x_original.shape}\")\n",
        "print(f\"New shape: {x_permuted.shape}\")"
      ],
      "metadata": {
        "colab": {
          "base_uri": "https://localhost:8080/"
        },
        "id": "yh5CvBrUdB4J",
        "outputId": "bed3432e-ec4e-486b-8e03-b26b2d153ed1"
      },
      "execution_count": null,
      "outputs": [
        {
          "output_type": "stream",
          "name": "stdout",
          "text": [
            "Previous shape: torch.Size([224, 224, 3])\n",
            "New shape: torch.Size([3, 224, 224])\n"
          ]
        }
      ]
    },
    {
      "cell_type": "markdown",
      "source": [
        "## Indexing"
      ],
      "metadata": {
        "id": "GbE0cPHxd2Wk"
      }
    },
    {
      "cell_type": "code",
      "source": [
        "x = torch.arange(1, 10).reshape(1, 3, 3)\n",
        "x"
      ],
      "metadata": {
        "colab": {
          "base_uri": "https://localhost:8080/"
        },
        "id": "LCWnkx_gfDPM",
        "outputId": "d07dfeaa-a233-4242-b48b-d4ae59be189e"
      },
      "execution_count": null,
      "outputs": [
        {
          "output_type": "execute_result",
          "data": {
            "text/plain": [
              "tensor([[[1, 2, 3],\n",
              "         [4, 5, 6],\n",
              "         [7, 8, 9]]])"
            ]
          },
          "metadata": {},
          "execution_count": 171
        }
      ]
    },
    {
      "cell_type": "code",
      "source": [
        "x[0]"
      ],
      "metadata": {
        "colab": {
          "base_uri": "https://localhost:8080/"
        },
        "id": "LU-Bl7gqfSjt",
        "outputId": "cd2e83ff-1cb6-4e1a-f61d-21418ec98078"
      },
      "execution_count": null,
      "outputs": [
        {
          "output_type": "execute_result",
          "data": {
            "text/plain": [
              "tensor([[1, 2, 3],\n",
              "        [4, 5, 6],\n",
              "        [7, 8, 9]])"
            ]
          },
          "metadata": {},
          "execution_count": 172
        }
      ]
    },
    {
      "cell_type": "code",
      "source": [
        "x[0][0]"
      ],
      "metadata": {
        "colab": {
          "base_uri": "https://localhost:8080/"
        },
        "id": "xM6UV1wJfi7i",
        "outputId": "76ef07c3-efad-4b38-b10a-deda89ae3ef1"
      },
      "execution_count": null,
      "outputs": [
        {
          "output_type": "execute_result",
          "data": {
            "text/plain": [
              "tensor([1, 2, 3])"
            ]
          },
          "metadata": {},
          "execution_count": 173
        }
      ]
    },
    {
      "cell_type": "code",
      "source": [
        "x[0][0][0]"
      ],
      "metadata": {
        "colab": {
          "base_uri": "https://localhost:8080/"
        },
        "id": "2bq-5aSffqZy",
        "outputId": "7ff2a7e3-377b-477a-d925-e3eb544d3fbc"
      },
      "execution_count": null,
      "outputs": [
        {
          "output_type": "execute_result",
          "data": {
            "text/plain": [
              "tensor(1)"
            ]
          },
          "metadata": {},
          "execution_count": 174
        }
      ]
    },
    {
      "cell_type": "code",
      "source": [
        "# ':' can select all of a target dimension\n",
        "x[:, 0]"
      ],
      "metadata": {
        "colab": {
          "base_uri": "https://localhost:8080/"
        },
        "id": "EoxCmuXnfxmx",
        "outputId": "20822cc5-ec49-4aa9-8918-0a005162a0fc"
      },
      "execution_count": null,
      "outputs": [
        {
          "output_type": "execute_result",
          "data": {
            "text/plain": [
              "tensor([[1, 2, 3]])"
            ]
          },
          "metadata": {},
          "execution_count": 175
        }
      ]
    },
    {
      "cell_type": "code",
      "source": [
        "x[0, 0, :]"
      ],
      "metadata": {
        "colab": {
          "base_uri": "https://localhost:8080/"
        },
        "id": "hkCfHIt_gR6Z",
        "outputId": "484624fa-2ac2-46a9-d8d2-95b7448de35c"
      },
      "execution_count": null,
      "outputs": [
        {
          "output_type": "execute_result",
          "data": {
            "text/plain": [
              "tensor([1, 2, 3])"
            ]
          },
          "metadata": {},
          "execution_count": 178
        }
      ]
    },
    {
      "cell_type": "code",
      "source": [
        "x[:, 1, 1]"
      ],
      "metadata": {
        "colab": {
          "base_uri": "https://localhost:8080/"
        },
        "id": "oJ-63iJvgf_U",
        "outputId": "014e3ff9-12af-489a-ca38-6802b73b53b9"
      },
      "execution_count": null,
      "outputs": [
        {
          "output_type": "execute_result",
          "data": {
            "text/plain": [
              "tensor([5])"
            ]
          },
          "metadata": {},
          "execution_count": 181
        }
      ]
    },
    {
      "cell_type": "code",
      "source": [
        "x[0, :, 0]"
      ],
      "metadata": {
        "colab": {
          "base_uri": "https://localhost:8080/"
        },
        "id": "lXMY9YBTjuz-",
        "outputId": "e43ea0db-9459-4b6c-ea23-96945787e024"
      },
      "execution_count": null,
      "outputs": [
        {
          "output_type": "execute_result",
          "data": {
            "text/plain": [
              "tensor([1, 4, 7])"
            ]
          },
          "metadata": {},
          "execution_count": 183
        }
      ]
    },
    {
      "cell_type": "markdown",
      "source": [
        "## PyTorch tensors and NumPy"
      ],
      "metadata": {
        "id": "4gIzO9Gaj7er"
      }
    },
    {
      "cell_type": "markdown",
      "source": [
        "PyTorch has functionality to interact with Numpy.  \n",
        "NumPy is a Python numerical computing library."
      ],
      "metadata": {
        "id": "xIxOPb_ykZci"
      }
    },
    {
      "cell_type": "code",
      "source": [
        "# NumPy array to tensor\n",
        "# NumPy's default datatype is float64\n",
        "array = np.arange(1.0, 8.0)\n",
        "tensor = torch.from_numpy(array).type(torch.float32) # You can change the type to float32\n",
        "array, tensor, tensor.dtype"
      ],
      "metadata": {
        "colab": {
          "base_uri": "https://localhost:8080/"
        },
        "id": "f6o0ffJ9ko5K",
        "outputId": "546c3f91-020a-4b58-c1e7-3f627172f850"
      },
      "execution_count": null,
      "outputs": [
        {
          "output_type": "execute_result",
          "data": {
            "text/plain": [
              "(array([1., 2., 3., 4., 5., 6., 7.]),\n",
              " tensor([1., 2., 3., 4., 5., 6., 7.]),\n",
              " torch.float32)"
            ]
          },
          "metadata": {},
          "execution_count": 188
        }
      ]
    },
    {
      "cell_type": "code",
      "source": [
        "# The array has a different space in memory that of the tensor\n",
        "array = array + 1\n",
        "array, tensor"
      ],
      "metadata": {
        "colab": {
          "base_uri": "https://localhost:8080/"
        },
        "id": "SIMJ7_jAk_JU",
        "outputId": "2d155102-a997-4cce-f783-cd618f824b26"
      },
      "execution_count": null,
      "outputs": [
        {
          "output_type": "execute_result",
          "data": {
            "text/plain": [
              "(array([3., 4., 5., 6., 7., 8., 9.]), tensor([1., 2., 3., 4., 5., 6., 7.]))"
            ]
          },
          "metadata": {},
          "execution_count": 190
        }
      ]
    },
    {
      "cell_type": "code",
      "source": [
        "# Tensor to array\n",
        "# Just like with the last example, the array reflects the datatype of the tensor\n",
        "tensor = torch.ones(7)\n",
        "numpy_tensor = tensor.numpy()\n",
        "tensor, numpy_tensor"
      ],
      "metadata": {
        "colab": {
          "base_uri": "https://localhost:8080/"
        },
        "id": "kn3EtUell4YP",
        "outputId": "030f37ba-787e-4a57-9777-ce9c9bb7db9c"
      },
      "execution_count": null,
      "outputs": [
        {
          "output_type": "execute_result",
          "data": {
            "text/plain": [
              "(tensor([1., 1., 1., 1., 1., 1., 1.]),\n",
              " array([1., 1., 1., 1., 1., 1., 1.], dtype=float32))"
            ]
          },
          "metadata": {},
          "execution_count": 192
        }
      ]
    },
    {
      "cell_type": "code",
      "source": [
        "tensor = tensor + 1\n",
        "tensor, numpy_tensor"
      ],
      "metadata": {
        "colab": {
          "base_uri": "https://localhost:8080/"
        },
        "id": "O5OYfu2vmoO7",
        "outputId": "7faf97f4-7cb8-4820-850c-6113878cebc7"
      },
      "execution_count": null,
      "outputs": [
        {
          "output_type": "execute_result",
          "data": {
            "text/plain": [
              "(tensor([2., 2., 2., 2., 2., 2., 2.]),\n",
              " array([1., 1., 1., 1., 1., 1., 1.], dtype=float32))"
            ]
          },
          "metadata": {},
          "execution_count": 193
        }
      ]
    },
    {
      "cell_type": "markdown",
      "source": [
        "## Reproducibility"
      ],
      "metadata": {
        "id": "tzJQQXqYm-qb"
      }
    },
    {
      "cell_type": "markdown",
      "source": [
        "Trying to take random out of random. <br>  \n",
        "Neural networks start with random numbers, then execute tensor operations, followed by the stage of updating random numbers to try and make them better representations of the data. This process repeats continually.\n",
        "\n"
      ],
      "metadata": {
        "id": "e4hhl5ffnQJj"
      }
    },
    {
      "cell_type": "markdown",
      "source": [
        "To reduce the randomness in neural networks, there is a concept in PyTorch called **random seed**."
      ],
      "metadata": {
        "id": "6XjgwmeenTdw"
      }
    },
    {
      "cell_type": "code",
      "source": [
        "random_tensor_A = torch.rand(3, 4)\n",
        "random_tensor_B = torch.rand(3, 4)\n",
        "\n",
        "print(random_tensor_A)\n",
        "print(random_tensor_B)\n",
        "print(random_tensor_A == random_tensor_B) # Compare every values of each tensor"
      ],
      "metadata": {
        "colab": {
          "base_uri": "https://localhost:8080/"
        },
        "id": "k83kyBnOo3ag",
        "outputId": "bec7ffbe-9596-4cbe-e1c2-e6eb95a4710e"
      },
      "execution_count": null,
      "outputs": [
        {
          "output_type": "stream",
          "name": "stdout",
          "text": [
            "tensor([[0.0093, 0.0559, 0.9600, 0.1316],\n",
            "        [0.0959, 0.4369, 0.7624, 0.2867],\n",
            "        [0.7448, 0.2385, 0.8769, 0.8824]])\n",
            "tensor([[0.1128, 0.8313, 0.3947, 0.2769],\n",
            "        [0.4555, 0.1754, 0.4359, 0.6174],\n",
            "        [0.7879, 0.5627, 0.1923, 0.2928]])\n",
            "tensor([[False, False, False, False],\n",
            "        [False, False, False, False],\n",
            "        [False, False, False, False]])\n"
          ]
        }
      ]
    },
    {
      "cell_type": "code",
      "source": [
        "# Creating random reproducible tensors\n",
        "\n",
        "# Setting random seed\n",
        "RANDOM_SEED = 42\n",
        "torch.manual_seed(RANDOM_SEED)\n",
        "random_tensor_C = torch.rand(3, 4)\n",
        "torch.manual_seed(RANDOM_SEED)\n",
        "random_tensor_D = torch.rand(3, 4)\n",
        "\n",
        "print(random_tensor_C)\n",
        "print(random_tensor_D)\n",
        "print(random_tensor_C == random_tensor_D)"
      ],
      "metadata": {
        "colab": {
          "base_uri": "https://localhost:8080/"
        },
        "id": "ScV7_bmZpjVS",
        "outputId": "a7c6e031-4f83-42ca-9a8d-1e9ee283b2b3"
      },
      "execution_count": null,
      "outputs": [
        {
          "output_type": "stream",
          "name": "stdout",
          "text": [
            "tensor([[0.8823, 0.9150, 0.3829, 0.9593],\n",
            "        [0.3904, 0.6009, 0.2566, 0.7936],\n",
            "        [0.9408, 0.1332, 0.9346, 0.5936]])\n",
            "tensor([[0.8823, 0.9150, 0.3829, 0.9593],\n",
            "        [0.3904, 0.6009, 0.2566, 0.7936],\n",
            "        [0.9408, 0.1332, 0.9346, 0.5936]])\n",
            "tensor([[True, True, True, True],\n",
            "        [True, True, True, True],\n",
            "        [True, True, True, True]])\n"
          ]
        }
      ]
    },
    {
      "cell_type": "markdown",
      "source": [
        "## Putting tensors on the GPU"
      ],
      "metadata": {
        "id": "b3OUOLkcBIv2"
      }
    },
    {
      "cell_type": "code",
      "source": [
        "# Create a tensor on the CPU\n",
        "tensor = torch.tensor([1,2 ,3 ], device=\"cpu\")\n",
        "\n",
        "print(tensor, tensor.device)"
      ],
      "metadata": {
        "colab": {
          "base_uri": "https://localhost:8080/"
        },
        "id": "ulgXypCGBMru",
        "outputId": "ffa26b01-495f-473b-90d9-af66a0708919"
      },
      "execution_count": null,
      "outputs": [
        {
          "output_type": "stream",
          "name": "stdout",
          "text": [
            "tensor([1, 2, 3]) cpu\n"
          ]
        }
      ]
    },
    {
      "cell_type": "code",
      "source": [
        "# Move tensor to GPU (if available)\n",
        "device = \"cuda\" if torch.cuda.is_available() else 'cpu'\n",
        "\n",
        "tensor_on_gpu = tensor.to(device)\n",
        "tensor_on_gpu, tensor_on_gpu.device"
      ],
      "metadata": {
        "colab": {
          "base_uri": "https://localhost:8080/"
        },
        "id": "fECa2DxgBehm",
        "outputId": "0720f7b0-abac-4b47-b2ad-b9eb6a8d21be"
      },
      "execution_count": null,
      "outputs": [
        {
          "output_type": "execute_result",
          "data": {
            "text/plain": [
              "(tensor([1, 2, 3]), device(type='cpu'))"
            ]
          },
          "metadata": {},
          "execution_count": 5
        }
      ]
    },
    {
      "cell_type": "markdown",
      "source": [
        "## Moving tensors back to the CPU"
      ],
      "metadata": {
        "id": "xqBRuz0fBqSZ"
      }
    },
    {
      "cell_type": "markdown",
      "source": [
        "If tensor is on GPU, can't transform it to NumPy !"
      ],
      "metadata": {
        "id": "2jIYwEvkCSjC"
      }
    },
    {
      "cell_type": "code",
      "source": [
        "# Set the tensor to the CPU\n",
        "tensor_back_on_cpu = tensor_on_gpu.cpu().numpy()\n",
        "tensor_back_on_cpu"
      ],
      "metadata": {
        "colab": {
          "base_uri": "https://localhost:8080/"
        },
        "id": "dcpPx81dCbcs",
        "outputId": "2e007bb6-2d29-4020-a4d7-fe74c77d2122"
      },
      "execution_count": null,
      "outputs": [
        {
          "output_type": "execute_result",
          "data": {
            "text/plain": [
              "array([1, 2, 3])"
            ]
          },
          "metadata": {},
          "execution_count": 6
        }
      ]
    },
    {
      "cell_type": "markdown",
      "source": [
        "# PyTorch Workflow"
      ],
      "metadata": {
        "id": "9r5z7EonHI1_"
      }
    },
    {
      "cell_type": "code",
      "source": [
        "import torch\n",
        "from torch import nn\n",
        "import matplotlib.pyplot as plt\n",
        "torch.__version__"
      ],
      "metadata": {
        "colab": {
          "base_uri": "https://localhost:8080/",
          "height": 35
        },
        "id": "w3FPR5GsHQu9",
        "outputId": "dec3f4e3-9045-4e18-f69d-c38fe5b18f23"
      },
      "execution_count": 152,
      "outputs": [
        {
          "output_type": "execute_result",
          "data": {
            "text/plain": [
              "'2.8.0+cu126'"
            ],
            "application/vnd.google.colaboratory.intrinsic+json": {
              "type": "string"
            }
          },
          "metadata": {},
          "execution_count": 152
        }
      ]
    },
    {
      "cell_type": "markdown",
      "source": [
        "## Preparing and loading data"
      ],
      "metadata": {
        "id": "v_mcDRlDPAgR"
      }
    },
    {
      "cell_type": "markdown",
      "source": [
        "Creating data with the linear regression formula.  "
      ],
      "metadata": {
        "id": "zEbopuuRPN0g"
      }
    },
    {
      "cell_type": "code",
      "source": [
        "# Create known parameters\n",
        "weight = 0.7\n",
        "bias = 0.3\n",
        "\n",
        "start = 0\n",
        "end = 1\n",
        "step = 0.02\n",
        "X = torch.arange(start, end, step).unsqueeze(dim=1)\n",
        "y = weight * X + bias\n",
        "\n",
        "X[:10], y[:10], len(X), len(y)"
      ],
      "metadata": {
        "colab": {
          "base_uri": "https://localhost:8080/"
        },
        "id": "T5OXnit7P5OZ",
        "outputId": "08e6581d-9c07-45ae-853b-5406ca9ab1e1"
      },
      "execution_count": 153,
      "outputs": [
        {
          "output_type": "execute_result",
          "data": {
            "text/plain": [
              "(tensor([[0.0000],\n",
              "         [0.0200],\n",
              "         [0.0400],\n",
              "         [0.0600],\n",
              "         [0.0800],\n",
              "         [0.1000],\n",
              "         [0.1200],\n",
              "         [0.1400],\n",
              "         [0.1600],\n",
              "         [0.1800]]),\n",
              " tensor([[0.3000],\n",
              "         [0.3140],\n",
              "         [0.3280],\n",
              "         [0.3420],\n",
              "         [0.3560],\n",
              "         [0.3700],\n",
              "         [0.3840],\n",
              "         [0.3980],\n",
              "         [0.4120],\n",
              "         [0.4260]]),\n",
              " 50,\n",
              " 50)"
            ]
          },
          "metadata": {},
          "execution_count": 153
        }
      ]
    },
    {
      "cell_type": "markdown",
      "source": [
        "### Splitting data into training and test sets"
      ],
      "metadata": {
        "id": "yqe_j0E4RBNQ"
      }
    },
    {
      "cell_type": "code",
      "source": [
        "train_split = int(0.8 * len(X)) # set and split are the same thing\n",
        "X_train, y_train = X[:train_split], y[:train_split]\n",
        "X_test, y_test = X[train_split:], y[train_split:]\n",
        "\n",
        "len(X_train), len(y_train), len(X_test), len(y_test)"
      ],
      "metadata": {
        "colab": {
          "base_uri": "https://localhost:8080/"
        },
        "id": "Kiv-EMcSSIDr",
        "outputId": "555d0cc4-e631-4318-b514-fb51fe561822"
      },
      "execution_count": 154,
      "outputs": [
        {
          "output_type": "execute_result",
          "data": {
            "text/plain": [
              "(40, 40, 10, 10)"
            ]
          },
          "metadata": {},
          "execution_count": 154
        }
      ]
    },
    {
      "cell_type": "markdown",
      "source": [
        "How can we visualize our data?"
      ],
      "metadata": {
        "id": "Rvf3DJkbTVOY"
      }
    },
    {
      "cell_type": "code",
      "source": [
        "def plot_predictions(train_data=X_train,\n",
        "                     train_labels=y_train,\n",
        "                     test_data=X_test,\n",
        "                     test_labels=y_test,\n",
        "                     predictions=None):\n",
        "  plt.figure(figsize=(10, 7))\n",
        "\n",
        "  plt.scatter(train_data, train_labels, c=\"b\", s=4, label=\"Training data\")\n",
        "\n",
        "  plt.scatter(test_data, test_labels, c=\"g\", s=4, label=\"Testing data\")\n",
        "\n",
        "  # Are there predictions?\n",
        "  if predictions is not None:\n",
        "    plt.scatter(test_data, predictions, c=\"r\", s=4, label=\"Predictions\")\n",
        "\n",
        "  plt.legend(prop={\"size\": 14})"
      ],
      "metadata": {
        "id": "nl2ZKVWbUL0C"
      },
      "execution_count": 155,
      "outputs": []
    },
    {
      "cell_type": "code",
      "source": [
        "plot_predictions()"
      ],
      "metadata": {
        "colab": {
          "base_uri": "https://localhost:8080/",
          "height": 576
        },
        "id": "GjS5Y6nEVwYz",
        "outputId": "3d4e28d9-b2dc-415f-fc95-d8ed791f4618"
      },
      "execution_count": 156,
      "outputs": [
        {
          "output_type": "display_data",
          "data": {
            "text/plain": [
              "<Figure size 1000x700 with 1 Axes>"
            ],
            "image/png": "[encoded data removed]"
          },
          "metadata": {}
        }
      ]
    },
    {
      "cell_type": "markdown",
      "source": [
        "## Building the model"
      ],
      "metadata": {
        "id": "WxhRlpCwV_27"
      }
    },
    {
      "cell_type": "markdown",
      "source": [
        "It starts with random values, look at training data and adjust the random values to better represent the ideal values.  \n",
        "This is done through two main algorithms:\n",
        "1. Gradient descent\n",
        "2. Backpropagation"
      ],
      "metadata": {
        "id": "8SWRPECaeuuA"
      }
    },
    {
      "cell_type": "code",
      "source": [
        "# Linear regression model class\n",
        "class LinearRegressionModel(nn.Module): # inherits from nn.Module\n",
        "  def __init__(self):\n",
        "    super().__init__()\n",
        "\n",
        "    # Initialize the model parameters\n",
        "    self.weights = nn.Parameter(torch.randn(1,\n",
        "        requires_grad=True,\n",
        "        dtype=torch.float\n",
        "    ))\n",
        "\n",
        "    self.bias = nn.Parameter(torch.randn(1,\n",
        "        requires_grad=True,\n",
        "        dtype=torch.float\n",
        "    ))\n",
        "\n",
        "  # forward() defines the computation in the model\n",
        "  def forward(self, x: torch.Tensor) -> torch.Tensor:\n",
        "    return self.weights * x + self.bias # linear regression formula"
      ],
      "metadata": {
        "id": "fsrKRzxvW4wc"
      },
      "execution_count": 177,
      "outputs": []
    },
    {
      "cell_type": "markdown",
      "source": [
        "### Model building essentials"
      ],
      "metadata": {
        "id": "Oyj2TZgrkTEN"
      }
    },
    {
      "cell_type": "markdown",
      "source": [
        "* torch.nn - contains all the buildings for computational graphs\n",
        "* torch.nn.Parameter - what parameters should our model try and learn, often PyTorch layer from torch.nn will set these for us\n",
        "* torch.nn.Module - the base class for all neural network models, if you subclass it, you should overwrite forward()\n",
        "* torch.optim - this is where the optimizers in PyTorch live, they will help with gradient descent\n",
        "* def forward() - all nn.Module require you to overwrite forward(), this method defines what happens in the forward computation"
      ],
      "metadata": {
        "id": "4VCRQL9tkgyd"
      }
    },
    {
      "cell_type": "markdown",
      "source": [
        "### Checking the contents of our model"
      ],
      "metadata": {
        "id": "MeKHbg6llqdk"
      }
    },
    {
      "cell_type": "code",
      "source": [
        "# Create a random seed\n",
        "torch.manual_seed(42)\n",
        "\n",
        "# Create an instance of the model\n",
        "model_0 = LinearRegressionModel()\n",
        "\n",
        "list(model_0.parameters())"
      ],
      "metadata": {
        "colab": {
          "base_uri": "https://localhost:8080/"
        },
        "id": "uxA1RWzypW-m",
        "outputId": "48ccf350-28ee-45cc-a8cd-66454a3dc3a7"
      },
      "execution_count": 178,
      "outputs": [
        {
          "output_type": "execute_result",
          "data": {
            "text/plain": [
              "[Parameter containing:\n",
              " tensor([0.3367], requires_grad=True),\n",
              " Parameter containing:\n",
              " tensor([0.1288], requires_grad=True)]"
            ]
          },
          "metadata": {},
          "execution_count": 178
        }
      ]
    },
    {
      "cell_type": "code",
      "source": [
        "# List named parameters\n",
        "model_0.state_dict()"
      ],
      "metadata": {
        "colab": {
          "base_uri": "https://localhost:8080/"
        },
        "id": "TfgF_Bc1p1Qn",
        "outputId": "31154f99-144e-4337-8027-a55ea673514b"
      },
      "execution_count": 179,
      "outputs": [
        {
          "output_type": "execute_result",
          "data": {
            "text/plain": [
              "OrderedDict([('weights', tensor([0.3367])), ('bias', tensor([0.1288]))])"
            ]
          },
          "metadata": {},
          "execution_count": 179
        }
      ]
    },
    {
      "cell_type": "code",
      "source": [
        "# How can we make our values closer to these?\n",
        "weight, bias"
      ],
      "metadata": {
        "colab": {
          "base_uri": "https://localhost:8080/"
        },
        "id": "gQ5M_2kxrCKx",
        "outputId": "96aa069b-7ae6-4ce0-ff0b-dd72125ebc25"
      },
      "execution_count": 180,
      "outputs": [
        {
          "output_type": "execute_result",
          "data": {
            "text/plain": [
              "(0.7, 0.3)"
            ]
          },
          "metadata": {},
          "execution_count": 180
        }
      ]
    },
    {
      "cell_type": "markdown",
      "source": [
        "### Making predictions using `torch.inference_mode()`"
      ],
      "metadata": {
        "id": "AUUQGzw8rHKG"
      }
    },
    {
      "cell_type": "code",
      "source": [
        "# Inference mode disables the gradient track\n",
        "# It's better than no_grad()\n",
        "with torch.inference_mode():\n",
        "  y_preds = model_0(X_test)\n",
        "\n",
        "y_preds"
      ],
      "metadata": {
        "colab": {
          "base_uri": "https://localhost:8080/"
        },
        "id": "-AkOF8pTy7dL",
        "outputId": "80029b38-291c-45f3-aedd-0113f71aebb9"
      },
      "execution_count": 181,
      "outputs": [
        {
          "output_type": "execute_result",
          "data": {
            "text/plain": [
              "tensor([[0.3982],\n",
              "        [0.4049],\n",
              "        [0.4116],\n",
              "        [0.4184],\n",
              "        [0.4251],\n",
              "        [0.4318],\n",
              "        [0.4386],\n",
              "        [0.4453],\n",
              "        [0.4520],\n",
              "        [0.4588]])"
            ]
          },
          "metadata": {},
          "execution_count": 181
        }
      ]
    },
    {
      "cell_type": "code",
      "source": [
        "y_test"
      ],
      "metadata": {
        "colab": {
          "base_uri": "https://localhost:8080/"
        },
        "id": "qNLgsUkAztsz",
        "outputId": "a570fa71-7a94-41e0-b410-2b135612b596"
      },
      "execution_count": 182,
      "outputs": [
        {
          "output_type": "execute_result",
          "data": {
            "text/plain": [
              "tensor([[0.8600],\n",
              "        [0.8740],\n",
              "        [0.8880],\n",
              "        [0.9020],\n",
              "        [0.9160],\n",
              "        [0.9300],\n",
              "        [0.9440],\n",
              "        [0.9580],\n",
              "        [0.9720],\n",
              "        [0.9860]])"
            ]
          },
          "metadata": {},
          "execution_count": 182
        }
      ]
    },
    {
      "cell_type": "code",
      "source": [
        "plot_predictions(predictions=y_preds)"
      ],
      "metadata": {
        "colab": {
          "base_uri": "https://localhost:8080/",
          "height": 576
        },
        "id": "o1u4oDP10YVj",
        "outputId": "4d9b39c2-cb76-4d93-eae9-90ef7859af90"
      },
      "execution_count": 183,
      "outputs": [
        {
          "output_type": "display_data",
          "data": {
            "text/plain": [
              "<Figure size 1000x700 with 1 Axes>"
            ],
            "image/png": "[encoded data removed]"
          },
          "metadata": {}
        }
      ]
    },
    {
      "cell_type": "markdown",
      "source": [
        "## Train model"
      ],
      "metadata": {
        "id": "J2Kd1uuo0dUZ"
      }
    },
    {
      "cell_type": "markdown",
      "source": [
        "The idea of training is for a model to move from some unknown parameters to some known parameters.  \n",
        "So, it changes from a poor representation of the data to a better representation of the data.\n",
        "\n",
        "One way to measure how poor or how wrong your models predictions are is to use a loss function.\n",
        "\n",
        "Things we need to train:\n",
        "\n",
        "- **Loss function:** a funcion to measure how wrong your models's predictions are to the ideal outputs, lower is better.\n",
        "- **Optimizer:** takes into account the loss of a model and adjusts the model's parameters to improve the loss function.\n",
        "\n",
        "And for PyTorch, we also need:\n",
        " - training loop\n",
        " - testing loop"
      ],
      "metadata": {
        "id": "eYvv5LwE5zP_"
      }
    },
    {
      "cell_type": "code",
      "source": [
        "list(model_0.parameters())"
      ],
      "metadata": {
        "colab": {
          "base_uri": "https://localhost:8080/"
        },
        "id": "WSToSv4D6H8I",
        "outputId": "2f18bc7e-1282-4155-a099-56d07da83596"
      },
      "execution_count": 184,
      "outputs": [
        {
          "output_type": "execute_result",
          "data": {
            "text/plain": [
              "[Parameter containing:\n",
              " tensor([0.3367], requires_grad=True),\n",
              " Parameter containing:\n",
              " tensor([0.1288], requires_grad=True)]"
            ]
          },
          "metadata": {},
          "execution_count": 184
        }
      ]
    },
    {
      "cell_type": "code",
      "source": [
        "model_0.state_dict()"
      ],
      "metadata": {
        "colab": {
          "base_uri": "https://localhost:8080/"
        },
        "id": "smVJ9ZlR_7uC",
        "outputId": "b97a77b8-9f54-4ddf-ccd5-65e7905a64d0"
      },
      "execution_count": 185,
      "outputs": [
        {
          "output_type": "execute_result",
          "data": {
            "text/plain": [
              "OrderedDict([('weights', tensor([0.3367])), ('bias', tensor([0.1288]))])"
            ]
          },
          "metadata": {},
          "execution_count": 185
        }
      ]
    },
    {
      "cell_type": "code",
      "source": [
        "# Setup a loss function\n",
        "loss_fn = nn.L1Loss()\n",
        "\n",
        "# Setup an optimizer (ex.: stochastic gradient descent)\n",
        "optimizer = torch.optim.SGD(params=model_0.parameters(),\n",
        "                            lr=0.01)"
      ],
      "metadata": {
        "id": "-b2tzRIGAA9e"
      },
      "execution_count": 186,
      "outputs": []
    },
    {
      "cell_type": "markdown",
      "source": [
        "### Building a training loop (and a testing loop)"
      ],
      "metadata": {
        "id": "v2fLvMyoG6RX"
      }
    },
    {
      "cell_type": "markdown",
      "source": [
        "Steps needed in a training loop:\n",
        "1. Loop through the data\n",
        "2. Forward pass (this involves data moving through our model's forward functions)\n",
        "3. Calculate the loss (compare forward pass predictions to ground truth labels)\n",
        "4. Optimizer zero grad\n",
        "5. Loss backward - move backwards through the network to calculate the gradients of each of the parameters of our model respect to the loss\n",
        "6. Optimizer step - use the optimizer to adjust our model's parameters to try and improve the loss"
      ],
      "metadata": {
        "id": "GQDSLw4bHglF"
      }
    },
    {
      "cell_type": "code",
      "source": [
        "# An epoch is one loop through the data\n",
        "epochs = 200\n",
        "\n",
        "# Tracking values for future experiments\n",
        "epoch_count = []\n",
        "loss_values = []\n",
        "test_loss_values = []\n",
        "\n",
        "# Loop through the data\n",
        "for epoch in range(epochs):\n",
        "  # Set the model to training mode -> sets all parameters that require gradients to require gradients\n",
        "  model_0.train()\n",
        "\n",
        "  # Forward pass\n",
        "  y_pred = model_0(X_train)\n",
        "\n",
        "  # Calculate the loss\n",
        "  loss = loss_fn(y_pred, y_train)\n",
        "  print(f\"Loss: {loss}\")\n",
        "\n",
        "  # Optimizer zero grad\n",
        "  optimizer.zero_grad()\n",
        "\n",
        "  # Perform backpropagation on the loss with respect of the parameters of the model\n",
        "  loss.backward()\n",
        "\n",
        "  # Step the optimizer (gradient descent)\n",
        "  optimizer.step()\n",
        "\n",
        "  # Testing\n",
        "  model_0.eval() # turns off gradient tracking\n",
        "  with torch.inference_mode():\n",
        "    # Do the forward pass in testing mode\n",
        "    test_pred = model_0(X_test)\n",
        "\n",
        "    # Calculate the loss\n",
        "    test_loss = loss_fn(test_pred, y_test)\n",
        "\n",
        "  if epoch % 10 == 0: # Show results every 10 epochs\n",
        "    epoch_count.append(epoch)\n",
        "    loss_values.append(loss)\n",
        "    test_loss_values.append(test_loss)\n",
        "    print(f\"Epoch: {epoch} | Loss: {loss} | Test loss: {test_loss}\")\n",
        "\n",
        "  # Print our model state_dict()\n",
        "  print(model_0.state_dict())\n"
      ],
      "metadata": {
        "id": "9fdEJGQCJFy9",
        "colab": {
          "base_uri": "https://localhost:8080/"
        },
        "outputId": "5c775a8f-c05c-4699-dde5-3b9ddbfc7e5b"
      },
      "execution_count": 187,
      "outputs": [
        {
          "output_type": "stream",
          "name": "stdout",
          "text": [
            "Loss: 0.31288138031959534\n",
            "Epoch: 0 | Loss: 0.31288138031959534 | Test loss: 0.48106518387794495\n",
            "OrderedDict({'weights': tensor([0.3406]), 'bias': tensor([0.1388])})\n",
            "Loss: 0.3013603389263153\n",
            "OrderedDict({'weights': tensor([0.3445]), 'bias': tensor([0.1488])})\n",
            "Loss: 0.28983935713768005\n",
            "OrderedDict({'weights': tensor([0.3484]), 'bias': tensor([0.1588])})\n",
            "Loss: 0.2783183455467224\n",
            "OrderedDict({'weights': tensor([0.3523]), 'bias': tensor([0.1688])})\n",
            "Loss: 0.26679736375808716\n",
            "OrderedDict({'weights': tensor([0.3562]), 'bias': tensor([0.1788])})\n",
            "Loss: 0.2552763521671295\n",
            "OrderedDict({'weights': tensor([0.3601]), 'bias': tensor([0.1888])})\n",
            "Loss: 0.24375534057617188\n",
            "OrderedDict({'weights': tensor([0.3640]), 'bias': tensor([0.1988])})\n",
            "Loss: 0.23223432898521423\n",
            "OrderedDict({'weights': tensor([0.3679]), 'bias': tensor([0.2088])})\n",
            "Loss: 0.22071333229541779\n",
            "OrderedDict({'weights': tensor([0.3718]), 'bias': tensor([0.2188])})\n",
            "Loss: 0.20919232070446014\n",
            "OrderedDict({'weights': tensor([0.3757]), 'bias': tensor([0.2288])})\n",
            "Loss: 0.1976713240146637\n",
            "Epoch: 10 | Loss: 0.1976713240146637 | Test loss: 0.3463551998138428\n",
            "OrderedDict({'weights': tensor([0.3796]), 'bias': tensor([0.2388])})\n",
            "Loss: 0.18615034222602844\n",
            "OrderedDict({'weights': tensor([0.3835]), 'bias': tensor([0.2488])})\n",
            "Loss: 0.1746293306350708\n",
            "OrderedDict({'weights': tensor([0.3874]), 'bias': tensor([0.2588])})\n",
            "Loss: 0.16310831904411316\n",
            "OrderedDict({'weights': tensor([0.3913]), 'bias': tensor([0.2688])})\n",
            "Loss: 0.1515873372554779\n",
            "OrderedDict({'weights': tensor([0.3952]), 'bias': tensor([0.2788])})\n",
            "Loss: 0.14006635546684265\n",
            "OrderedDict({'weights': tensor([0.3991]), 'bias': tensor([0.2888])})\n",
            "Loss: 0.1285453587770462\n",
            "OrderedDict({'weights': tensor([0.4030]), 'bias': tensor([0.2988])})\n",
            "Loss: 0.11702437698841095\n",
            "OrderedDict({'weights': tensor([0.4069]), 'bias': tensor([0.3088])})\n",
            "Loss: 0.1060912236571312\n",
            "OrderedDict({'weights': tensor([0.4108]), 'bias': tensor([0.3178])})\n",
            "Loss: 0.09681284427642822\n",
            "OrderedDict({'weights': tensor([0.4146]), 'bias': tensor([0.3258])})\n",
            "Loss: 0.08908725529909134\n",
            "Epoch: 20 | Loss: 0.08908725529909134 | Test loss: 0.21729660034179688\n",
            "OrderedDict({'weights': tensor([0.4184]), 'bias': tensor([0.3333])})\n",
            "Loss: 0.08227583020925522\n",
            "OrderedDict({'weights': tensor([0.4222]), 'bias': tensor([0.3403])})\n",
            "Loss: 0.07638873159885406\n",
            "OrderedDict({'weights': tensor([0.4258]), 'bias': tensor([0.3463])})\n",
            "Loss: 0.07160007208585739\n",
            "OrderedDict({'weights': tensor([0.4293]), 'bias': tensor([0.3518])})\n",
            "Loss: 0.06747635453939438\n",
            "OrderedDict({'weights': tensor([0.4328]), 'bias': tensor([0.3568])})\n",
            "Loss: 0.06395438313484192\n",
            "OrderedDict({'weights': tensor([0.4361]), 'bias': tensor([0.3613])})\n",
            "Loss: 0.06097004935145378\n",
            "OrderedDict({'weights': tensor([0.4394]), 'bias': tensor([0.3653])})\n",
            "Loss: 0.05845819041132927\n",
            "OrderedDict({'weights': tensor([0.4425]), 'bias': tensor([0.3688])})\n",
            "Loss: 0.05635259300470352\n",
            "OrderedDict({'weights': tensor([0.4455]), 'bias': tensor([0.3718])})\n",
            "Loss: 0.0545857772231102\n",
            "OrderedDict({'weights': tensor([0.4483]), 'bias': tensor([0.3743])})\n",
            "Loss: 0.053148526698350906\n",
            "Epoch: 30 | Loss: 0.053148526698350906 | Test loss: 0.14464017748832703\n",
            "OrderedDict({'weights': tensor([0.4512]), 'bias': tensor([0.3768])})\n",
            "Loss: 0.05181945487856865\n",
            "OrderedDict({'weights': tensor([0.4539]), 'bias': tensor([0.3788])})\n",
            "Loss: 0.05069301277399063\n",
            "OrderedDict({'weights': tensor([0.4564]), 'bias': tensor([0.3803])})\n",
            "Loss: 0.0498228520154953\n",
            "OrderedDict({'weights': tensor([0.4590]), 'bias': tensor([0.3818])})\n",
            "Loss: 0.04895269125699997\n",
            "OrderedDict({'weights': tensor([0.4615]), 'bias': tensor([0.3833])})\n",
            "Loss: 0.04819351062178612\n",
            "OrderedDict({'weights': tensor([0.4639]), 'bias': tensor([0.3843])})\n",
            "Loss: 0.047531817108392715\n",
            "OrderedDict({'weights': tensor([0.4662]), 'bias': tensor([0.3853])})\n",
            "Loss: 0.04692792519927025\n",
            "OrderedDict({'weights': tensor([0.4684]), 'bias': tensor([0.3858])})\n",
            "Loss: 0.04642331600189209\n",
            "OrderedDict({'weights': tensor([0.4706]), 'bias': tensor([0.3863])})\n",
            "Loss: 0.04591871052980423\n",
            "OrderedDict({'weights': tensor([0.4728]), 'bias': tensor([0.3868])})\n",
            "Loss: 0.04543796554207802\n",
            "Epoch: 40 | Loss: 0.04543796554207802 | Test loss: 0.11360953003168106\n",
            "OrderedDict({'weights': tensor([0.4748]), 'bias': tensor([0.3868])})\n",
            "Loss: 0.04503796249628067\n",
            "OrderedDict({'weights': tensor([0.4768]), 'bias': tensor([0.3868])})\n",
            "Loss: 0.04463795945048332\n",
            "OrderedDict({'weights': tensor([0.4788]), 'bias': tensor([0.3868])})\n",
            "Loss: 0.04423796385526657\n",
            "OrderedDict({'weights': tensor([0.4808]), 'bias': tensor([0.3868])})\n",
            "Loss: 0.04383796453475952\n",
            "OrderedDict({'weights': tensor([0.4828]), 'bias': tensor([0.3868])})\n",
            "Loss: 0.04343796148896217\n",
            "OrderedDict({'weights': tensor([0.4848]), 'bias': tensor([0.3868])})\n",
            "Loss: 0.043074630200862885\n",
            "OrderedDict({'weights': tensor([0.4866]), 'bias': tensor([0.3863])})\n",
            "Loss: 0.04272563382983208\n",
            "OrderedDict({'weights': tensor([0.4884]), 'bias': tensor([0.3858])})\n",
            "Loss: 0.04237663000822067\n",
            "OrderedDict({'weights': tensor([0.4902]), 'bias': tensor([0.3853])})\n",
            "Loss: 0.04202762991189957\n",
            "OrderedDict({'weights': tensor([0.4920]), 'bias': tensor([0.3848])})\n",
            "Loss: 0.04167863354086876\n",
            "Epoch: 50 | Loss: 0.04167863354086876 | Test loss: 0.09919948130846024\n",
            "OrderedDict({'weights': tensor([0.4938]), 'bias': tensor([0.3843])})\n",
            "Loss: 0.04132963344454765\n",
            "OrderedDict({'weights': tensor([0.4956]), 'bias': tensor([0.3838])})\n",
            "Loss: 0.04098063334822655\n",
            "OrderedDict({'weights': tensor([0.4974]), 'bias': tensor([0.3833])})\n",
            "Loss: 0.04063162952661514\n",
            "OrderedDict({'weights': tensor([0.4992]), 'bias': tensor([0.3828])})\n",
            "Loss: 0.040282636880874634\n",
            "OrderedDict({'weights': tensor([0.5010]), 'bias': tensor([0.3823])})\n",
            "Loss: 0.039933640509843826\n",
            "OrderedDict({'weights': tensor([0.5028]), 'bias': tensor([0.3818])})\n",
            "Loss: 0.03958464413881302\n",
            "OrderedDict({'weights': tensor([0.5046]), 'bias': tensor([0.3813])})\n",
            "Loss: 0.03923564404249191\n",
            "OrderedDict({'weights': tensor([0.5064]), 'bias': tensor([0.3808])})\n",
            "Loss: 0.03888664394617081\n",
            "OrderedDict({'weights': tensor([0.5082]), 'bias': tensor([0.3803])})\n",
            "Loss: 0.0385376438498497\n",
            "OrderedDict({'weights': tensor([0.5100]), 'bias': tensor([0.3798])})\n",
            "Loss: 0.03818932920694351\n",
            "Epoch: 60 | Loss: 0.03818932920694351 | Test loss: 0.08886633068323135\n",
            "OrderedDict({'weights': tensor([0.5116]), 'bias': tensor([0.3788])})\n",
            "Loss: 0.03785243630409241\n",
            "OrderedDict({'weights': tensor([0.5134]), 'bias': tensor([0.3783])})\n",
            "Loss: 0.0375034399330616\n",
            "OrderedDict({'weights': tensor([0.5152]), 'bias': tensor([0.3778])})\n",
            "Loss: 0.037164121866226196\n",
            "OrderedDict({'weights': tensor([0.5168]), 'bias': tensor([0.3768])})\n",
            "Loss: 0.03681822493672371\n",
            "OrderedDict({'weights': tensor([0.5186]), 'bias': tensor([0.3763])})\n",
            "Loss: 0.03647511452436447\n",
            "OrderedDict({'weights': tensor([0.5202]), 'bias': tensor([0.3753])})\n",
            "Loss: 0.03613303601741791\n",
            "OrderedDict({'weights': tensor([0.5220]), 'bias': tensor([0.3748])})\n",
            "Loss: 0.03578609973192215\n",
            "OrderedDict({'weights': tensor([0.5236]), 'bias': tensor([0.3738])})\n",
            "Loss: 0.03544783592224121\n",
            "OrderedDict({'weights': tensor([0.5254]), 'bias': tensor([0.3733])})\n",
            "Loss: 0.035098835825920105\n",
            "OrderedDict({'weights': tensor([0.5272]), 'bias': tensor([0.3728])})\n",
            "Loss: 0.03476089984178543\n",
            "Epoch: 70 | Loss: 0.03476089984178543 | Test loss: 0.0805937647819519\n",
            "OrderedDict({'weights': tensor([0.5288]), 'bias': tensor([0.3718])})\n",
            "Loss: 0.03441363573074341\n",
            "OrderedDict({'weights': tensor([0.5306]), 'bias': tensor([0.3713])})\n",
            "Loss: 0.03407188132405281\n",
            "OrderedDict({'weights': tensor([0.5322]), 'bias': tensor([0.3703])})\n",
            "Loss: 0.03372843936085701\n",
            "OrderedDict({'weights': tensor([0.5340]), 'bias': tensor([0.3698])})\n",
            "Loss: 0.03338287025690079\n",
            "OrderedDict({'weights': tensor([0.5355]), 'bias': tensor([0.3688])})\n",
            "Loss: 0.033043231815099716\n",
            "OrderedDict({'weights': tensor([0.5373]), 'bias': tensor([0.3683])})\n",
            "Loss: 0.03269423171877861\n",
            "OrderedDict({'weights': tensor([0.5391]), 'bias': tensor([0.3678])})\n",
            "Loss: 0.032357655465602875\n",
            "OrderedDict({'weights': tensor([0.5407]), 'bias': tensor([0.3668])})\n",
            "Loss: 0.03200903534889221\n",
            "OrderedDict({'weights': tensor([0.5425]), 'bias': tensor([0.3663])})\n",
            "Loss: 0.03166864812374115\n",
            "OrderedDict({'weights': tensor([0.5441]), 'bias': tensor([0.3653])})\n",
            "Loss: 0.03132382780313492\n",
            "Epoch: 80 | Loss: 0.03132382780313492 | Test loss: 0.07232122868299484\n",
            "OrderedDict({'weights': tensor([0.5459]), 'bias': tensor([0.3648])})\n",
            "Loss: 0.030979642644524574\n",
            "OrderedDict({'weights': tensor([0.5475]), 'bias': tensor([0.3638])})\n",
            "Loss: 0.030638623982667923\n",
            "OrderedDict({'weights': tensor([0.5493]), 'bias': tensor([0.3633])})\n",
            "Loss: 0.0302906334400177\n",
            "OrderedDict({'weights': tensor([0.5509]), 'bias': tensor([0.3623])})\n",
            "Loss: 0.029953425750136375\n",
            "OrderedDict({'weights': tensor([0.5527]), 'bias': tensor([0.3618])})\n",
            "Loss: 0.02960442565381527\n",
            "OrderedDict({'weights': tensor([0.5545]), 'bias': tensor([0.3613])})\n",
            "Loss: 0.029265418648719788\n",
            "OrderedDict({'weights': tensor([0.5561]), 'bias': tensor([0.3603])})\n",
            "Loss: 0.028919223695993423\n",
            "OrderedDict({'weights': tensor([0.5579]), 'bias': tensor([0.3598])})\n",
            "Loss: 0.028576409444212914\n",
            "OrderedDict({'weights': tensor([0.5595]), 'bias': tensor([0.3588])})\n",
            "Loss: 0.028234025463461876\n",
            "OrderedDict({'weights': tensor([0.5613]), 'bias': tensor([0.3583])})\n",
            "Loss: 0.02788739837706089\n",
            "Epoch: 90 | Loss: 0.02788739837706089 | Test loss: 0.06473556160926819\n",
            "OrderedDict({'weights': tensor([0.5629]), 'bias': tensor([0.3573])})\n",
            "Loss: 0.02754882536828518\n",
            "OrderedDict({'weights': tensor([0.5647]), 'bias': tensor([0.3568])})\n",
            "Loss: 0.027199819684028625\n",
            "OrderedDict({'weights': tensor([0.5665]), 'bias': tensor([0.3563])})\n",
            "Loss: 0.026862185448408127\n",
            "OrderedDict({'weights': tensor([0.5681]), 'bias': tensor([0.3553])})\n",
            "Loss: 0.02651461586356163\n",
            "OrderedDict({'weights': tensor([0.5699]), 'bias': tensor([0.3548])})\n",
            "Loss: 0.026173178106546402\n",
            "OrderedDict({'weights': tensor([0.5715]), 'bias': tensor([0.3538])})\n",
            "Loss: 0.025829419493675232\n",
            "OrderedDict({'weights': tensor([0.5733]), 'bias': tensor([0.3533])})\n",
            "Loss: 0.02548416517674923\n",
            "OrderedDict({'weights': tensor([0.5748]), 'bias': tensor([0.3523])})\n",
            "Loss: 0.025144213810563087\n",
            "OrderedDict({'weights': tensor([0.5766]), 'bias': tensor([0.3518])})\n",
            "Loss: 0.02479521557688713\n",
            "OrderedDict({'weights': tensor([0.5784]), 'bias': tensor([0.3513])})\n",
            "Loss: 0.024458957836031914\n",
            "Epoch: 100 | Loss: 0.024458957836031914 | Test loss: 0.05646304413676262\n",
            "OrderedDict({'weights': tensor([0.5800]), 'bias': tensor([0.3503])})\n",
            "Loss: 0.024110013619065285\n",
            "OrderedDict({'weights': tensor([0.5818]), 'bias': tensor([0.3498])})\n",
            "Loss: 0.02376994863152504\n",
            "OrderedDict({'weights': tensor([0.5834]), 'bias': tensor([0.3488])})\n",
            "Loss: 0.02342480979859829\n",
            "OrderedDict({'weights': tensor([0.5852]), 'bias': tensor([0.3483])})\n",
            "Loss: 0.023080935701727867\n",
            "OrderedDict({'weights': tensor([0.5868]), 'bias': tensor([0.3473])})\n",
            "Loss: 0.022739607840776443\n",
            "OrderedDict({'weights': tensor([0.5886]), 'bias': tensor([0.3468])})\n",
            "Loss: 0.022391926497220993\n",
            "OrderedDict({'weights': tensor([0.5902]), 'bias': tensor([0.3458])})\n",
            "Loss: 0.022054409608244896\n",
            "OrderedDict({'weights': tensor([0.5920]), 'bias': tensor([0.3453])})\n",
            "Loss: 0.02170540764927864\n",
            "OrderedDict({'weights': tensor([0.5938]), 'bias': tensor([0.3448])})\n",
            "Loss: 0.021366719156503677\n",
            "OrderedDict({'weights': tensor([0.5954]), 'bias': tensor([0.3438])})\n",
            "Loss: 0.021020207554101944\n",
            "Epoch: 110 | Loss: 0.021020207554101944 | Test loss: 0.04819049686193466\n",
            "OrderedDict({'weights': tensor([0.5972]), 'bias': tensor([0.3433])})\n",
            "Loss: 0.020677709951996803\n",
            "OrderedDict({'weights': tensor([0.5988]), 'bias': tensor([0.3423])})\n",
            "Loss: 0.02033500373363495\n",
            "OrderedDict({'weights': tensor([0.6006]), 'bias': tensor([0.3418])})\n",
            "Loss: 0.01998869702219963\n",
            "OrderedDict({'weights': tensor([0.6022]), 'bias': tensor([0.3408])})\n",
            "Loss: 0.019649803638458252\n",
            "OrderedDict({'weights': tensor([0.6040]), 'bias': tensor([0.3403])})\n",
            "Loss: 0.019300809130072594\n",
            "OrderedDict({'weights': tensor([0.6058]), 'bias': tensor([0.3398])})\n",
            "Loss: 0.018963487818837166\n",
            "OrderedDict({'weights': tensor([0.6074]), 'bias': tensor([0.3388])})\n",
            "Loss: 0.01861560344696045\n",
            "OrderedDict({'weights': tensor([0.6092]), 'bias': tensor([0.3383])})\n",
            "Loss: 0.018274478614330292\n",
            "OrderedDict({'weights': tensor([0.6108]), 'bias': tensor([0.3373])})\n",
            "Loss: 0.017930403351783752\n",
            "OrderedDict({'weights': tensor([0.6126]), 'bias': tensor([0.3368])})\n",
            "Loss: 0.01758546568453312\n",
            "Epoch: 120 | Loss: 0.01758546568453312 | Test loss: 0.04060482233762741\n",
            "OrderedDict({'weights': tensor([0.6141]), 'bias': tensor([0.3358])})\n",
            "Loss: 0.017245199531316757\n",
            "OrderedDict({'weights': tensor([0.6159]), 'bias': tensor([0.3353])})\n",
            "Loss: 0.016896454617381096\n",
            "OrderedDict({'weights': tensor([0.6175]), 'bias': tensor([0.3343])})\n",
            "Loss: 0.01656000316143036\n",
            "OrderedDict({'weights': tensor([0.6193]), 'bias': tensor([0.3338])})\n",
            "Loss: 0.016210997477173805\n",
            "OrderedDict({'weights': tensor([0.6211]), 'bias': tensor([0.3333])})\n",
            "Loss: 0.01587124727666378\n",
            "OrderedDict({'weights': tensor([0.6227]), 'bias': tensor([0.3323])})\n",
            "Loss: 0.015525798313319683\n",
            "OrderedDict({'weights': tensor([0.6245]), 'bias': tensor([0.3318])})\n",
            "Loss: 0.015182236209511757\n",
            "OrderedDict({'weights': tensor([0.6261]), 'bias': tensor([0.3308])})\n",
            "Loss: 0.014840595424175262\n",
            "OrderedDict({'weights': tensor([0.6279]), 'bias': tensor([0.3303])})\n",
            "Loss: 0.01449323259294033\n",
            "OrderedDict({'weights': tensor([0.6295]), 'bias': tensor([0.3293])})\n",
            "Loss: 0.014155393466353416\n",
            "Epoch: 130 | Loss: 0.014155393466353416 | Test loss: 0.03233227878808975\n",
            "OrderedDict({'weights': tensor([0.6313]), 'bias': tensor([0.3288])})\n",
            "Loss: 0.013806397095322609\n",
            "OrderedDict({'weights': tensor([0.6331]), 'bias': tensor([0.3283])})\n",
            "Loss: 0.013468016870319843\n",
            "OrderedDict({'weights': tensor([0.6347]), 'bias': tensor([0.3273])})\n",
            "Loss: 0.013121193274855614\n",
            "OrderedDict({'weights': tensor([0.6365]), 'bias': tensor([0.3268])})\n",
            "Loss: 0.01277900766581297\n",
            "OrderedDict({'weights': tensor([0.6381]), 'bias': tensor([0.3258])})\n",
            "Loss: 0.012435992248356342\n",
            "OrderedDict({'weights': tensor([0.6399]), 'bias': tensor([0.3253])})\n",
            "Loss: 0.01208999752998352\n",
            "OrderedDict({'weights': tensor([0.6415]), 'bias': tensor([0.3243])})\n",
            "Loss: 0.011750795878469944\n",
            "OrderedDict({'weights': tensor([0.6433]), 'bias': tensor([0.3238])})\n",
            "Loss: 0.011401787400245667\n",
            "OrderedDict({'weights': tensor([0.6451]), 'bias': tensor([0.3233])})\n",
            "Loss: 0.011064787395298481\n",
            "OrderedDict({'weights': tensor([0.6467]), 'bias': tensor([0.3223])})\n",
            "Loss: 0.010716589167714119\n",
            "Epoch: 140 | Loss: 0.010716589167714119 | Test loss: 0.024059748277068138\n",
            "OrderedDict({'weights': tensor([0.6485]), 'bias': tensor([0.3218])})\n",
            "Loss: 0.010375778190791607\n",
            "OrderedDict({'weights': tensor([0.6501]), 'bias': tensor([0.3208])})\n",
            "Loss: 0.010031387209892273\n",
            "OrderedDict({'weights': tensor([0.6519]), 'bias': tensor([0.3203])})\n",
            "Loss: 0.009686763398349285\n",
            "OrderedDict({'weights': tensor([0.6534]), 'bias': tensor([0.3193])})\n",
            "Loss: 0.009346187114715576\n",
            "OrderedDict({'weights': tensor([0.6552]), 'bias': tensor([0.3188])})\n",
            "Loss: 0.008997755125164986\n",
            "OrderedDict({'weights': tensor([0.6568]), 'bias': tensor([0.3178])})\n",
            "Loss: 0.008660981431603432\n",
            "OrderedDict({'weights': tensor([0.6586]), 'bias': tensor([0.3173])})\n",
            "Loss: 0.008311985060572624\n",
            "OrderedDict({'weights': tensor([0.6604]), 'bias': tensor([0.3168])})\n",
            "Loss: 0.007972544990479946\n",
            "OrderedDict({'weights': tensor([0.6620]), 'bias': tensor([0.3158])})\n",
            "Loss: 0.007626785431057215\n",
            "OrderedDict({'weights': tensor([0.6638]), 'bias': tensor([0.3153])})\n",
            "Loss: 0.0072835334576666355\n",
            "Epoch: 150 | Loss: 0.0072835334576666355 | Test loss: 0.016474086791276932\n",
            "OrderedDict({'weights': tensor([0.6654]), 'bias': tensor([0.3143])})\n",
            "Loss: 0.006941580679267645\n",
            "OrderedDict({'weights': tensor([0.6672]), 'bias': tensor([0.3138])})\n",
            "Loss: 0.006594526115804911\n",
            "OrderedDict({'weights': tensor([0.6688]), 'bias': tensor([0.3128])})\n",
            "Loss: 0.006256377790123224\n",
            "OrderedDict({'weights': tensor([0.6706]), 'bias': tensor([0.3123])})\n",
            "Loss: 0.005907376762479544\n",
            "OrderedDict({'weights': tensor([0.6724]), 'bias': tensor([0.3118])})\n",
            "Loss: 0.005569315515458584\n",
            "OrderedDict({'weights': tensor([0.6740]), 'bias': tensor([0.3108])})\n",
            "Loss: 0.005222178064286709\n",
            "OrderedDict({'weights': tensor([0.6758]), 'bias': tensor([0.3103])})\n",
            "Loss: 0.004880306776612997\n",
            "OrderedDict({'weights': tensor([0.6774]), 'bias': tensor([0.3093])})\n",
            "Loss: 0.004536976106464863\n",
            "OrderedDict({'weights': tensor([0.6792]), 'bias': tensor([0.3088])})\n",
            "Loss: 0.00419129803776741\n",
            "OrderedDict({'weights': tensor([0.6808]), 'bias': tensor([0.3078])})\n",
            "Loss: 0.0038517764769494534\n",
            "Epoch: 160 | Loss: 0.0038517764769494534 | Test loss: 0.008201557211577892\n",
            "OrderedDict({'weights': tensor([0.6826]), 'bias': tensor([0.3073])})\n",
            "Loss: 0.0035027749836444855\n",
            "OrderedDict({'weights': tensor([0.6844]), 'bias': tensor([0.3068])})\n",
            "Loss: 0.0031660839449614286\n",
            "OrderedDict({'weights': tensor([0.6860]), 'bias': tensor([0.3058])})\n",
            "Loss: 0.002817571861669421\n",
            "OrderedDict({'weights': tensor([0.6878]), 'bias': tensor([0.3053])})\n",
            "Loss: 0.0024770735763013363\n",
            "OrderedDict({'weights': tensor([0.6894]), 'bias': tensor([0.3043])})\n",
            "Loss: 0.0021323717664927244\n",
            "OrderedDict({'weights': tensor([0.6912]), 'bias': tensor([0.3038])})\n",
            "Loss: 0.0017880648374557495\n",
            "OrderedDict({'weights': tensor([0.6927]), 'bias': tensor([0.3028])})\n",
            "Loss: 0.0014518328243866563\n",
            "OrderedDict({'weights': tensor([0.6947]), 'bias': tensor([0.3028])})\n",
            "Loss: 0.0011887758737429976\n",
            "OrderedDict({'weights': tensor([0.6951]), 'bias': tensor([0.2993])})\n",
            "Loss: 0.0025885067880153656\n",
            "OrderedDict({'weights': tensor([0.6990]), 'bias': tensor([0.3093])})\n",
            "Loss: 0.008932482451200485\n",
            "Epoch: 170 | Loss: 0.008932482451200485 | Test loss: 0.005023092031478882\n",
            "OrderedDict({'weights': tensor([0.6951]), 'bias': tensor([0.2993])})\n",
            "Loss: 0.0025885067880153656\n",
            "OrderedDict({'weights': tensor([0.6990]), 'bias': tensor([0.3093])})\n",
            "Loss: 0.008932482451200485\n",
            "OrderedDict({'weights': tensor([0.6951]), 'bias': tensor([0.2993])})\n",
            "Loss: 0.0025885067880153656\n",
            "OrderedDict({'weights': tensor([0.6990]), 'bias': tensor([0.3093])})\n",
            "Loss: 0.008932482451200485\n",
            "OrderedDict({'weights': tensor([0.6951]), 'bias': tensor([0.2993])})\n",
            "Loss: 0.0025885067880153656\n",
            "OrderedDict({'weights': tensor([0.6990]), 'bias': tensor([0.3093])})\n",
            "Loss: 0.008932482451200485\n",
            "OrderedDict({'weights': tensor([0.6951]), 'bias': tensor([0.2993])})\n",
            "Loss: 0.0025885067880153656\n",
            "OrderedDict({'weights': tensor([0.6990]), 'bias': tensor([0.3093])})\n",
            "Loss: 0.008932482451200485\n",
            "OrderedDict({'weights': tensor([0.6951]), 'bias': tensor([0.2993])})\n",
            "Loss: 0.0025885067880153656\n",
            "OrderedDict({'weights': tensor([0.6990]), 'bias': tensor([0.3093])})\n",
            "Loss: 0.008932482451200485\n",
            "Epoch: 180 | Loss: 0.008932482451200485 | Test loss: 0.005023092031478882\n",
            "OrderedDict({'weights': tensor([0.6951]), 'bias': tensor([0.2993])})\n",
            "Loss: 0.0025885067880153656\n",
            "OrderedDict({'weights': tensor([0.6990]), 'bias': tensor([0.3093])})\n",
            "Loss: 0.008932482451200485\n",
            "OrderedDict({'weights': tensor([0.6951]), 'bias': tensor([0.2993])})\n",
            "Loss: 0.0025885067880153656\n",
            "OrderedDict({'weights': tensor([0.6990]), 'bias': tensor([0.3093])})\n",
            "Loss: 0.008932482451200485\n",
            "OrderedDict({'weights': tensor([0.6951]), 'bias': tensor([0.2993])})\n",
            "Loss: 0.0025885067880153656\n",
            "OrderedDict({'weights': tensor([0.6990]), 'bias': tensor([0.3093])})\n",
            "Loss: 0.008932482451200485\n",
            "OrderedDict({'weights': tensor([0.6951]), 'bias': tensor([0.2993])})\n",
            "Loss: 0.0025885067880153656\n",
            "OrderedDict({'weights': tensor([0.6990]), 'bias': tensor([0.3093])})\n",
            "Loss: 0.008932482451200485\n",
            "OrderedDict({'weights': tensor([0.6951]), 'bias': tensor([0.2993])})\n",
            "Loss: 0.0025885067880153656\n",
            "OrderedDict({'weights': tensor([0.6990]), 'bias': tensor([0.3093])})\n",
            "Loss: 0.008932482451200485\n",
            "Epoch: 190 | Loss: 0.008932482451200485 | Test loss: 0.005023092031478882\n",
            "OrderedDict({'weights': tensor([0.6951]), 'bias': tensor([0.2993])})\n",
            "Loss: 0.0025885067880153656\n",
            "OrderedDict({'weights': tensor([0.6990]), 'bias': tensor([0.3093])})\n",
            "Loss: 0.008932482451200485\n",
            "OrderedDict({'weights': tensor([0.6951]), 'bias': tensor([0.2993])})\n",
            "Loss: 0.0025885067880153656\n",
            "OrderedDict({'weights': tensor([0.6990]), 'bias': tensor([0.3093])})\n",
            "Loss: 0.008932482451200485\n",
            "OrderedDict({'weights': tensor([0.6951]), 'bias': tensor([0.2993])})\n",
            "Loss: 0.0025885067880153656\n",
            "OrderedDict({'weights': tensor([0.6990]), 'bias': tensor([0.3093])})\n",
            "Loss: 0.008932482451200485\n",
            "OrderedDict({'weights': tensor([0.6951]), 'bias': tensor([0.2993])})\n",
            "Loss: 0.0025885067880153656\n",
            "OrderedDict({'weights': tensor([0.6990]), 'bias': tensor([0.3093])})\n",
            "Loss: 0.008932482451200485\n",
            "OrderedDict({'weights': tensor([0.6951]), 'bias': tensor([0.2993])})\n",
            "Loss: 0.0025885067880153656\n",
            "OrderedDict({'weights': tensor([0.6990]), 'bias': tensor([0.3093])})\n"
          ]
        }
      ]
    },
    {
      "cell_type": "code",
      "source": [
        "# Making new predictions\n",
        "with torch.inference_mode():\n",
        "  y_preds_new = model_0(X_test)"
      ],
      "metadata": {
        "id": "odmc3z-q2-bz"
      },
      "execution_count": 188,
      "outputs": []
    },
    {
      "cell_type": "code",
      "source": [
        "plot_predictions(predictions=y_preds_new)"
      ],
      "metadata": {
        "colab": {
          "base_uri": "https://localhost:8080/",
          "height": 576
        },
        "id": "q1kuwJ8Y5POW",
        "outputId": "f8eb5b21-6f5c-494f-dedb-9ffc1dda8ffd"
      },
      "execution_count": 189,
      "outputs": [
        {
          "output_type": "display_data",
          "data": {
            "text/plain": [
              "<Figure size 1000x700 with 1 Axes>"
            ],
            "image/png": "[encoded data removed]"
          },
          "metadata": {}
        }
      ]
    },
    {
      "cell_type": "code",
      "source": [
        "# Plot the loss curves\n",
        "import numpy as np\n",
        "\n",
        "plt.plot(epoch_count, np.array(torch.tensor(loss_values).numpy()), label=\"Train loss\")\n",
        "plt.plot(epoch_count, test_loss_values, label=\"Test loss\")\n",
        "plt.title(\"Training and test loss curves\")\n",
        "plt.ylabel(\"Loss\")\n",
        "plt.xlabel(\"Epochs\")\n",
        "plt.legend()"
      ],
      "metadata": {
        "colab": {
          "base_uri": "https://localhost:8080/",
          "height": 489
        },
        "id": "nSvVKnwp5XSo",
        "outputId": "8b88df73-f76f-45ea-b03b-9e9bf63c8096"
      },
      "execution_count": 191,
      "outputs": [
        {
          "output_type": "execute_result",
          "data": {
            "text/plain": [
              "<matplotlib.legend.Legend at 0x783d55427740>"
            ]
          },
          "metadata": {},
          "execution_count": 191
        },
        {
          "output_type": "display_data",
          "data": {
            "text/plain": [
              "<Figure size 640x480 with 1 Axes>"
            ],
            "image/png": "[encoded data removed]"
          },
          "metadata": {}
        }
      ]
    },
    {
      "cell_type": "markdown",
      "source": [
        "## Saving a model in Pytorch"
      ],
      "metadata": {
        "id": "nKm6nrkpDP2v"
      }
    },
    {
      "cell_type": "markdown",
      "source": [
        "1. `torch.save()` - allows you save a PyTorch object in Python's pickle format\n",
        "2. `torch.load()` - allows you load a saved PyTorch object\n",
        "3. `torch.nn.Module.load_state_dict()` - allows you to load a model's saved state dictionary"
      ],
      "metadata": {
        "id": "BUCMlaKNF2RV"
      }
    },
    {
      "cell_type": "code",
      "source": [
        "model_0.state_dict()"
      ],
      "metadata": {
        "colab": {
          "base_uri": "https://localhost:8080/"
        },
        "id": "QZ_3lMWEGluR",
        "outputId": "3cb299fb-0990-4c25-ea02-0f5be1e826ad"
      },
      "execution_count": 192,
      "outputs": [
        {
          "output_type": "execute_result",
          "data": {
            "text/plain": [
              "OrderedDict([('weights', tensor([0.6990])), ('bias', tensor([0.3093]))])"
            ]
          },
          "metadata": {},
          "execution_count": 192
        }
      ]
    },
    {
      "cell_type": "code",
      "source": [
        "# Saving our model\n",
        "from pathlib import Path\n",
        "\n",
        "# Create model's directory\n",
        "MODEL_PATH = Path(\"models\")\n",
        "MODEL_PATH.mkdir(parents=True, exist_ok=True) # Create a directory or recreate the parents directory if it alrealy exists\n",
        "\n",
        "# Create a model save path\n",
        "MODEL_NAME = 'pytorch_workflow_model_0.pth'\n",
        "MODEL_SAVE_PATH = MODEL_PATH / MODEL_NAME\n",
        "\n",
        "# Save the model state dict\n",
        "print(f\"Saving model to: {MODEL_SAVE_PATH}\")\n",
        "torch.save(obj=model_0.state_dict(),\n",
        "           f=MODEL_SAVE_PATH)"
      ],
      "metadata": {
        "colab": {
          "base_uri": "https://localhost:8080/"
        },
        "id": "JQjopaxUGof-",
        "outputId": "1656678e-2e73-4dc9-f8c1-a3bffb6054c8"
      },
      "execution_count": 194,
      "outputs": [
        {
          "output_type": "stream",
          "name": "stdout",
          "text": [
            "Saving model to: models/pytorch_workflow_model_0.pth\n"
          ]
        }
      ]
    },
    {
      "cell_type": "code",
      "source": [
        "!ls -l models"
      ],
      "metadata": {
        "colab": {
          "base_uri": "https://localhost:8080/"
        },
        "id": "O0DD72QUQObT",
        "outputId": "5ac9f89d-2b26-4c84-db10-d3bf31d3daf9"
      },
      "execution_count": 195,
      "outputs": [
        {
          "output_type": "stream",
          "name": "stdout",
          "text": [
            "total 4\n",
            "-rw-r--r-- 1 root root 2093 Oct  7 20:00 pytorch_workflow_model_0.pth\n"
          ]
        }
      ]
    },
    {
      "cell_type": "markdown",
      "source": [
        "## Loading a PyTorch model"
      ],
      "metadata": {
        "id": "qG8U7AjrQ3s1"
      }
    },
    {
      "cell_type": "markdown",
      "source": [
        "After saving our model's `state_dict()`, we can create a new instance of our model class and load the saved `state_dict()` into that."
      ],
      "metadata": {
        "id": "bIm9xhAoRYsr"
      }
    },
    {
      "cell_type": "code",
      "source": [
        "# To load in a saved state_dict we have to instantiate a new instance of our model class\n",
        "loaded_model_0 = LinearRegressionModel()\n",
        "\n",
        "# Load the saved state_dict()\n",
        "loaded_model_0.load_state_dict(torch.load(f=MODEL_SAVE_PATH))"
      ],
      "metadata": {
        "colab": {
          "base_uri": "https://localhost:8080/"
        },
        "id": "x7BmKsM-R9yS",
        "outputId": "2b58bf75-1564-4277-c9f5-a01c0780a9eb"
      },
      "execution_count": 196,
      "outputs": [
        {
          "output_type": "execute_result",
          "data": {
            "text/plain": [
              "<All keys matched successfully>"
            ]
          },
          "metadata": {},
          "execution_count": 196
        }
      ]
    },
    {
      "cell_type": "code",
      "source": [
        "loaded_model_0.state_dict()"
      ],
      "metadata": {
        "colab": {
          "base_uri": "https://localhost:8080/"
        },
        "id": "Tv69S1hISsiq",
        "outputId": "5429c42f-95e3-4893-801f-659a82857b86"
      },
      "execution_count": 197,
      "outputs": [
        {
          "output_type": "execute_result",
          "data": {
            "text/plain": [
              "OrderedDict([('weights', tensor([0.6990])), ('bias', tensor([0.3093]))])"
            ]
          },
          "metadata": {},
          "execution_count": 197
        }
      ]
    },
    {
      "cell_type": "code",
      "source": [
        "# Make some predictions to see if our loaded model is working\n",
        "loaded_model_0.eval()\n",
        "with torch.inference_mode():\n",
        "  loaded_model_preds = loaded_model_0(X_test)\n",
        "\n",
        "loaded_model_preds"
      ],
      "metadata": {
        "colab": {
          "base_uri": "https://localhost:8080/"
        },
        "id": "PSRJzoC4SuO4",
        "outputId": "efb56094-86c6-4842-976d-77184a23c993"
      },
      "execution_count": 201,
      "outputs": [
        {
          "output_type": "execute_result",
          "data": {
            "text/plain": [
              "tensor([[0.8685],\n",
              "        [0.8825],\n",
              "        [0.8965],\n",
              "        [0.9105],\n",
              "        [0.9245],\n",
              "        [0.9384],\n",
              "        [0.9524],\n",
              "        [0.9664],\n",
              "        [0.9804],\n",
              "        [0.9944]])"
            ]
          },
          "metadata": {},
          "execution_count": 201
        }
      ]
    },
    {
      "cell_type": "code",
      "source": [
        "# Compare loaded model preds with original model preds\n",
        "model_0.eval()\n",
        "with torch.inference_mode():\n",
        "  y_preds = model_0(X_test)\n",
        "\n",
        "y_preds == loaded_model_preds"
      ],
      "metadata": {
        "colab": {
          "base_uri": "https://localhost:8080/"
        },
        "id": "JP-4CUP6TBw0",
        "outputId": "9c44e0d3-86f8-438c-ac11-9d20660169cf"
      },
      "execution_count": 203,
      "outputs": [
        {
          "output_type": "execute_result",
          "data": {
            "text/plain": [
              "tensor([[True],\n",
              "        [True],\n",
              "        [True],\n",
              "        [True],\n",
              "        [True],\n",
              "        [True],\n",
              "        [True],\n",
              "        [True],\n",
              "        [True],\n",
              "        [True]])"
            ]
          },
          "metadata": {},
          "execution_count": 203
        }
      ]
    }
  ]
}